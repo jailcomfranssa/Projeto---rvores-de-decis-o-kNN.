{
  "nbformat": 4,
  "nbformat_minor": 0,
  "metadata": {
    "colab": {
      "name": "Untitled0.ipynb",
      "provenance": [],
      "authorship_tag": "ABX9TyNV+U4kS09dk9A0YFtFVUmT",
      "include_colab_link": true
    },
    "kernelspec": {
      "name": "python3",
      "display_name": "Python 3"
    },
    "language_info": {
      "name": "python"
    }
  },
  "cells": [
    {
      "cell_type": "markdown",
      "metadata": {
        "id": "view-in-github",
        "colab_type": "text"
      },
      "source": [
        "<a href=\"https://colab.research.google.com/github/jailcomfranssa/Projeto--Arvores-de-decisao-kNN./blob/master/Untitled0.ipynb\" target=\"_parent\"><img src=\"https://colab.research.google.com/assets/colab-badge.svg\" alt=\"Open In Colab\"/></a>"
      ]
    },
    {
      "cell_type": "code",
      "metadata": {
        "id": "Or_Q4nHq8Di_"
      },
      "source": [
        "from sklearn import tree\n",
        "from sklearn.model_selection import train_test_split\n",
        "from sklearn import metrics\n",
        "import pandas as pd\n",
        "from sklearn.neighbors import KNeighborsClassifier\n",
        "import math\n",
        "import numpy\n",
        "from collections import Counter\n",
        "\n",
        "\n",
        "url = \"https://raw.githubusercontent.com/jailcomfranssa/winw/main/wine.data\"\n",
        "\n",
        "dataset = pd.read_csv(url, header=None)\n",
        "columns = len(dataset.columns)\n",
        "\n",
        "y = dataset[0]\n",
        "X = dataset.loc[:,1:columns-1]\n",
        "\n",
        "\n"
      ],
      "execution_count": 148,
      "outputs": []
    },
    {
      "cell_type": "code",
      "metadata": {
        "colab": {
          "base_uri": "https://localhost:8080/"
        },
        "id": "eFGCoTbN8v88",
        "outputId": "80225335-17c5-4b0c-c3c0-e179c5d76afa"
      },
      "source": [
        "X_train, X_test, y_train, y_test = train_test_split(X, y, test_size=0.2, random_state=None, stratify=y) # 80% treino e 20% teste\n",
        "\n",
        "\n",
        "print(y_test)"
      ],
      "execution_count": 149,
      "outputs": [
        {
          "output_type": "stream",
          "text": [
            "47     1\n",
            "81     2\n",
            "95     2\n",
            "134    3\n",
            "76     2\n",
            "175    3\n",
            "146    3\n",
            "11     1\n",
            "121    2\n",
            "30     1\n",
            "35     1\n",
            "159    3\n",
            "111    2\n",
            "160    3\n",
            "80     2\n",
            "142    3\n",
            "96     2\n",
            "65     2\n",
            "69     2\n",
            "105    2\n",
            "89     2\n",
            "37     1\n",
            "29     1\n",
            "145    3\n",
            "52     1\n",
            "152    3\n",
            "50     1\n",
            "12     1\n",
            "141    3\n",
            "10     1\n",
            "44     1\n",
            "78     2\n",
            "72     2\n",
            "113    2\n",
            "150    3\n",
            "16     1\n",
            "Name: 0, dtype: int64\n"
          ],
          "name": "stdout"
        }
      ]
    },
    {
      "cell_type": "code",
      "metadata": {
        "id": "QwSh2G7P-B7u"
      },
      "source": [
        "#Árvore 1 entropy\n",
        "model = tree.DecisionTreeClassifier(criterion=\"entropy\")\n",
        "model = model.fit(X_train, y_train)"
      ],
      "execution_count": 150,
      "outputs": []
    },
    {
      "cell_type": "code",
      "metadata": {
        "colab": {
          "base_uri": "https://localhost:8080/"
        },
        "id": "vmzedWS6-I_5",
        "outputId": "d7a6e26f-7174-4702-ee39-17dae2d80d18"
      },
      "source": [
        "# Predição e Resultados\n",
        "\n",
        "result = model.predict(X_test)\n",
        "acc = metrics.accuracy_score(result, y_test)\n",
        "show = round(acc * 100)\n",
        "print(\"{}%\".format(show))\n",
        "\n",
        "print(list(result))\n",
        "print(list(y_test))"
      ],
      "execution_count": 151,
      "outputs": [
        {
          "output_type": "stream",
          "text": [
            "94%\n",
            "[1, 2, 2, 3, 2, 3, 3, 1, 2, 1, 1, 3, 2, 3, 2, 3, 2, 2, 2, 2, 2, 1, 1, 3, 1, 3, 1, 1, 3, 1, 1, 2, 1, 2, 1, 1]\n",
            "[1, 2, 2, 3, 2, 3, 3, 1, 2, 1, 1, 3, 2, 3, 2, 3, 2, 2, 2, 2, 2, 1, 1, 3, 1, 3, 1, 1, 3, 1, 1, 2, 2, 2, 3, 1]\n"
          ],
          "name": "stdout"
        }
      ]
    },
    {
      "cell_type": "code",
      "metadata": {
        "colab": {
          "base_uri": "https://localhost:8080/"
        },
        "id": "8pWbn3U1_Joi",
        "outputId": "6dd30d00-f2fd-469e-afce-65920eed5fd4"
      },
      "source": [
        "#Árvore 2 Gini\n",
        "\n",
        "model = tree.DecisionTreeClassifier(criterion=\"gini\")\n",
        "model = model.fit(X_train, y_train)\n",
        "print(y_test)"
      ],
      "execution_count": 152,
      "outputs": [
        {
          "output_type": "stream",
          "text": [
            "47     1\n",
            "81     2\n",
            "95     2\n",
            "134    3\n",
            "76     2\n",
            "175    3\n",
            "146    3\n",
            "11     1\n",
            "121    2\n",
            "30     1\n",
            "35     1\n",
            "159    3\n",
            "111    2\n",
            "160    3\n",
            "80     2\n",
            "142    3\n",
            "96     2\n",
            "65     2\n",
            "69     2\n",
            "105    2\n",
            "89     2\n",
            "37     1\n",
            "29     1\n",
            "145    3\n",
            "52     1\n",
            "152    3\n",
            "50     1\n",
            "12     1\n",
            "141    3\n",
            "10     1\n",
            "44     1\n",
            "78     2\n",
            "72     2\n",
            "113    2\n",
            "150    3\n",
            "16     1\n",
            "Name: 0, dtype: int64\n"
          ],
          "name": "stdout"
        }
      ]
    },
    {
      "cell_type": "code",
      "metadata": {
        "colab": {
          "base_uri": "https://localhost:8080/"
        },
        "id": "2gJkVd91_oDu",
        "outputId": "2d6dd0ab-a18c-4879-87dd-e099c1dac4e7"
      },
      "source": [
        "result = model.predict(X_test)\n",
        "acc = metrics.accuracy_score(result, y_test)\n",
        "show = round(acc * 100)\n",
        "print(\"{}%\".format(show))\n",
        "\n",
        "print(list(result))\n",
        "print(list(y_test))"
      ],
      "execution_count": 153,
      "outputs": [
        {
          "output_type": "stream",
          "text": [
            "94%\n",
            "[1, 2, 2, 3, 2, 3, 3, 1, 2, 1, 1, 3, 2, 3, 2, 3, 2, 3, 2, 2, 2, 1, 1, 3, 1, 3, 1, 1, 3, 1, 1, 2, 2, 2, 2, 1]\n",
            "[1, 2, 2, 3, 2, 3, 3, 1, 2, 1, 1, 3, 2, 3, 2, 3, 2, 2, 2, 2, 2, 1, 1, 3, 1, 3, 1, 1, 3, 1, 1, 2, 2, 2, 3, 1]\n"
          ],
          "name": "stdout"
        }
      ]
    },
    {
      "cell_type": "code",
      "metadata": {
        "id": "5eW_h_QD_470"
      },
      "source": [
        "#kNN. euclidean n10\n",
        "n = 10\n",
        "\n",
        "model = KNeighborsClassifier(n_neighbors=n, metric='euclidean', algorithm='brute')\n",
        "model = model.fit(X_train, y_train)"
      ],
      "execution_count": 154,
      "outputs": []
    },
    {
      "cell_type": "code",
      "metadata": {
        "colab": {
          "base_uri": "https://localhost:8080/"
        },
        "id": "SCYA5Ytj_8z6",
        "outputId": "daf44b66-cea9-4981-a06b-cc77762e3511"
      },
      "source": [
        "result = model.predict(X_test)\n",
        "acc = metrics.accuracy_score(result, y_test)\n",
        "show = round(acc * 100)\n",
        "print(\"{}%\".format(show))\n",
        "\n",
        "print(list(result))\n",
        "print(list(y_test))"
      ],
      "execution_count": 155,
      "outputs": [
        {
          "output_type": "stream",
          "text": [
            "61%\n",
            "[1, 3, 1, 2, 2, 1, 2, 1, 2, 1, 1, 3, 2, 2, 2, 2, 3, 3, 3, 2, 2, 1, 1, 1, 1, 2, 1, 1, 1, 1, 1, 1, 2, 2, 3, 1]\n",
            "[1, 2, 2, 3, 2, 3, 3, 1, 2, 1, 1, 3, 2, 3, 2, 3, 2, 2, 2, 2, 2, 1, 1, 3, 1, 3, 1, 1, 3, 1, 1, 2, 2, 2, 3, 1]\n"
          ],
          "name": "stdout"
        }
      ]
    },
    {
      "cell_type": "code",
      "metadata": {
        "id": "jLy7w-AzAGwi"
      },
      "source": [
        "#kNN. euclidean n20\n",
        "\n",
        "n = 20\n",
        "\n",
        "model = KNeighborsClassifier(n_neighbors=n, metric='euclidean', algorithm='brute')\n",
        "model = model.fit(X_train, y_train)"
      ],
      "execution_count": 156,
      "outputs": []
    },
    {
      "cell_type": "code",
      "metadata": {
        "colab": {
          "base_uri": "https://localhost:8080/"
        },
        "id": "YzxRSKh2AKnZ",
        "outputId": "0731df78-2093-4cce-d3d9-e607db8c526d"
      },
      "source": [
        "result = model.predict(X_test)\n",
        "acc = metrics.accuracy_score(result, y_test)\n",
        "show = round(acc * 100)\n",
        "print(\"{}%\".format(show))\n",
        "\n",
        "print(list(result))\n",
        "print(list(y_test))"
      ],
      "execution_count": 157,
      "outputs": [
        {
          "output_type": "stream",
          "text": [
            "61%\n",
            "[1, 3, 1, 3, 2, 1, 2, 1, 2, 1, 1, 3, 2, 2, 2, 2, 3, 3, 3, 2, 3, 1, 1, 1, 1, 2, 1, 1, 3, 1, 1, 3, 2, 2, 2, 1]\n",
            "[1, 2, 2, 3, 2, 3, 3, 1, 2, 1, 1, 3, 2, 3, 2, 3, 2, 2, 2, 2, 2, 1, 1, 3, 1, 3, 1, 1, 3, 1, 1, 2, 2, 2, 3, 1]\n"
          ],
          "name": "stdout"
        }
      ]
    },
    {
      "cell_type": "code",
      "metadata": {
        "id": "J8e5KwNaAS1t"
      },
      "source": [
        "#kNN. euclidean n30\n",
        "\n",
        "n = 30\n",
        "\n",
        "model = KNeighborsClassifier(n_neighbors=n, metric='euclidean', algorithm='brute')\n",
        "model = model.fit(X_train, y_train)"
      ],
      "execution_count": 158,
      "outputs": []
    },
    {
      "cell_type": "code",
      "metadata": {
        "colab": {
          "base_uri": "https://localhost:8080/"
        },
        "id": "3pAEarCwAXr9",
        "outputId": "c20d4a01-0344-45df-dfba-05fa23b2e3c8"
      },
      "source": [
        "result = model.predict(X_test)\n",
        "acc = metrics.accuracy_score(result, y_test)\n",
        "show = round(acc * 100)\n",
        "print(\"{}%\".format(show))\n",
        "\n",
        "print(list(result))\n",
        "print(list(y_test))"
      ],
      "execution_count": 159,
      "outputs": [
        {
          "output_type": "stream",
          "text": [
            "61%\n",
            "[1, 3, 1, 3, 2, 1, 2, 1, 2, 1, 1, 3, 2, 2, 2, 2, 3, 3, 3, 2, 3, 1, 1, 1, 1, 2, 1, 1, 3, 1, 1, 3, 2, 2, 2, 1]\n",
            "[1, 2, 2, 3, 2, 3, 3, 1, 2, 1, 1, 3, 2, 3, 2, 3, 2, 2, 2, 2, 2, 1, 1, 3, 1, 3, 1, 1, 3, 1, 1, 2, 2, 2, 3, 1]\n"
          ],
          "name": "stdout"
        }
      ]
    },
    {
      "cell_type": "code",
      "metadata": {
        "id": "AKfB891YAvg8"
      },
      "source": [
        "#kNN. chebyshev n10\n",
        "\n",
        "n = 10\n",
        "\n",
        "model = KNeighborsClassifier(n_neighbors=n, metric='chebyshev', algorithm='brute')\n",
        "model = model.fit(X_train, y_train)"
      ],
      "execution_count": 160,
      "outputs": []
    },
    {
      "cell_type": "code",
      "metadata": {
        "colab": {
          "base_uri": "https://localhost:8080/"
        },
        "id": "tUm1_HBXAygD",
        "outputId": "1d5852bf-353f-4dee-cced-c94795da8d07"
      },
      "source": [
        "result = model.predict(X_test)\n",
        "acc = metrics.accuracy_score(result, y_test)\n",
        "show = round(acc * 100)\n",
        "print(\"{}%\".format(show))\n",
        "\n",
        "print(list(result))\n",
        "print(list(y_test))"
      ],
      "execution_count": 161,
      "outputs": [
        {
          "output_type": "stream",
          "text": [
            "58%\n",
            "[1, 3, 1, 3, 2, 1, 2, 1, 2, 1, 1, 3, 2, 2, 2, 2, 3, 3, 3, 2, 3, 1, 1, 1, 1, 2, 1, 1, 1, 1, 1, 1, 2, 2, 2, 1]\n",
            "[1, 2, 2, 3, 2, 3, 3, 1, 2, 1, 1, 3, 2, 3, 2, 3, 2, 2, 2, 2, 2, 1, 1, 3, 1, 3, 1, 1, 3, 1, 1, 2, 2, 2, 3, 1]\n"
          ],
          "name": "stdout"
        }
      ]
    },
    {
      "cell_type": "code",
      "metadata": {
        "id": "ZR2QffPuBFZQ"
      },
      "source": [
        "#kNN. chebyshev n20\n",
        "\n",
        "n = 20\n",
        "\n",
        "model = KNeighborsClassifier(n_neighbors=n, metric='chebyshev', algorithm='brute')\n",
        "model = model.fit(X_train, y_train)"
      ],
      "execution_count": 162,
      "outputs": []
    },
    {
      "cell_type": "code",
      "metadata": {
        "colab": {
          "base_uri": "https://localhost:8080/"
        },
        "id": "nmoh7mppBGtx",
        "outputId": "34203d97-b5f0-410c-c4ed-554e8616e0c8"
      },
      "source": [
        "result = model.predict(X_test)\n",
        "acc = metrics.accuracy_score(result, y_test)\n",
        "show = round(acc * 100)\n",
        "print(\"{}%\".format(show))\n",
        "\n",
        "print(list(result))\n",
        "print(list(y_test))"
      ],
      "execution_count": 163,
      "outputs": [
        {
          "output_type": "stream",
          "text": [
            "61%\n",
            "[1, 3, 1, 3, 2, 1, 2, 1, 2, 1, 1, 3, 2, 2, 2, 2, 3, 3, 3, 2, 3, 1, 1, 1, 1, 2, 1, 1, 3, 1, 1, 3, 2, 2, 2, 1]\n",
            "[1, 2, 2, 3, 2, 3, 3, 1, 2, 1, 1, 3, 2, 3, 2, 3, 2, 2, 2, 2, 2, 1, 1, 3, 1, 3, 1, 1, 3, 1, 1, 2, 2, 2, 3, 1]\n"
          ],
          "name": "stdout"
        }
      ]
    },
    {
      "cell_type": "code",
      "metadata": {
        "id": "sXzC7Pa0BSty"
      },
      "source": [
        "#kNN. chebyshev n30\n",
        "\n",
        "n = 30\n",
        "\n",
        "model = KNeighborsClassifier(n_neighbors=n, metric='chebyshev', algorithm='brute')\n",
        "model = model.fit(X_train, y_train)"
      ],
      "execution_count": 164,
      "outputs": []
    },
    {
      "cell_type": "code",
      "metadata": {
        "colab": {
          "base_uri": "https://localhost:8080/"
        },
        "id": "UwrLXKJ7BZd2",
        "outputId": "93f5b86e-c752-4e43-d04a-bbd2fd4ca4ad"
      },
      "source": [
        "result = model.predict(X_test)\n",
        "acc = metrics.accuracy_score(result, y_test)\n",
        "show = round(acc * 100)\n",
        "print(\"{}%\".format(show))\n",
        "\n",
        "print(list(result))\n",
        "print(list(y_test))"
      ],
      "execution_count": 165,
      "outputs": [
        {
          "output_type": "stream",
          "text": [
            "61%\n",
            "[1, 3, 1, 3, 2, 1, 2, 1, 2, 1, 1, 3, 2, 2, 2, 2, 3, 3, 3, 2, 3, 1, 1, 1, 1, 2, 1, 1, 3, 1, 1, 3, 2, 2, 2, 1]\n",
            "[1, 2, 2, 3, 2, 3, 3, 1, 2, 1, 1, 3, 2, 3, 2, 3, 2, 2, 2, 2, 2, 1, 1, 3, 1, 3, 1, 1, 3, 1, 1, 2, 2, 2, 3, 1]\n"
          ],
          "name": "stdout"
        }
      ]
    }
  ]
}

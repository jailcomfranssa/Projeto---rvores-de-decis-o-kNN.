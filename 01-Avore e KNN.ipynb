{
  "nbformat": 4,
  "nbformat_minor": 0,
  "metadata": {
    "colab": {
      "name": "Untitled0.ipynb",
      "provenance": [],
      "authorship_tag": "ABX9TyN3xyc82XSMsq4/BkUXlVO7",
      "include_colab_link": true
    },
    "kernelspec": {
      "name": "python3",
      "display_name": "Python 3"
    },
    "language_info": {
      "name": "python"
    }
  },
  "cells": [
    {
      "cell_type": "markdown",
      "metadata": {
        "id": "view-in-github",
        "colab_type": "text"
      },
      "source": [
        "<a href=\"https://colab.research.google.com/github/jailcomfranssa/Projeto--Arvores-de-decisao-kNN./blob/master/Untitled0.ipynb\" target=\"_parent\"><img src=\"https://colab.research.google.com/assets/colab-badge.svg\" alt=\"Open In Colab\"/></a>"
      ]
    },
    {
      "cell_type": "code",
      "metadata": {
        "id": "Or_Q4nHq8Di_"
      },
      "source": [
        "from sklearn import tree\n",
        "from sklearn.model_selection import train_test_split\n",
        "from sklearn import metrics\n",
        "import pandas as pd\n",
        "from sklearn.neighbors import KNeighborsClassifier\n",
        "import math\n",
        "import numpy\n",
        "from collections import Counter\n",
        "\n",
        "\n",
        "url = \"https://raw.githubusercontent.com/jailcomfranssa/Projeto--Arvores-de-decisao-kNN./master/wine.data\"\n",
        "\n",
        "dataset = pd.read_csv(url, header=None)\n",
        "columns = len(dataset.columns)\n",
        "\n",
        "y = dataset[0]\n",
        "X = dataset.loc[:,1:columns-1]\n",
        "\n",
        "\n"
      ],
      "execution_count": 166,
      "outputs": []
    },
    {
      "cell_type": "code",
      "metadata": {
        "colab": {
          "base_uri": "https://localhost:8080/"
        },
        "id": "eFGCoTbN8v88",
        "outputId": "ad223a9a-087b-4e6a-a7e3-307a698a9c8c"
      },
      "source": [
        "X_train, X_test, y_train, y_test = train_test_split(X, y, test_size=0.2, random_state=None, stratify=y) # 80% treino e 20% teste\n",
        "\n",
        "\n",
        "print(y_test)"
      ],
      "execution_count": 167,
      "outputs": [
        {
          "output_type": "stream",
          "text": [
            "40     1\n",
            "167    3\n",
            "4      1\n",
            "0      1\n",
            "113    2\n",
            "126    2\n",
            "77     2\n",
            "79     2\n",
            "122    2\n",
            "124    2\n",
            "162    3\n",
            "136    3\n",
            "78     2\n",
            "160    3\n",
            "98     2\n",
            "112    2\n",
            "62     2\n",
            "146    3\n",
            "33     1\n",
            "164    3\n",
            "80     2\n",
            "39     1\n",
            "12     1\n",
            "26     1\n",
            "138    3\n",
            "24     1\n",
            "170    3\n",
            "151    3\n",
            "53     1\n",
            "72     2\n",
            "70     2\n",
            "25     1\n",
            "8      1\n",
            "64     2\n",
            "152    3\n",
            "58     1\n",
            "Name: 0, dtype: int64\n"
          ],
          "name": "stdout"
        }
      ]
    },
    {
      "cell_type": "code",
      "metadata": {
        "id": "QwSh2G7P-B7u"
      },
      "source": [
        "#Árvore 1 entropy\n",
        "model = tree.DecisionTreeClassifier(criterion=\"entropy\")\n",
        "model = model.fit(X_train, y_train)"
      ],
      "execution_count": 168,
      "outputs": []
    },
    {
      "cell_type": "code",
      "metadata": {
        "colab": {
          "base_uri": "https://localhost:8080/"
        },
        "id": "vmzedWS6-I_5",
        "outputId": "8030f5e7-40ec-460c-a14d-97a979166725"
      },
      "source": [
        "# Predição e Resultados\n",
        "\n",
        "result = model.predict(X_test)\n",
        "acc = metrics.accuracy_score(result, y_test)\n",
        "show = round(acc * 100)\n",
        "print(\"{}%\".format(show))\n",
        "\n",
        "print(list(result))\n",
        "print(list(y_test))"
      ],
      "execution_count": 169,
      "outputs": [
        {
          "output_type": "stream",
          "text": [
            "89%\n",
            "[1, 3, 2, 1, 2, 1, 2, 2, 2, 2, 3, 3, 2, 3, 2, 2, 2, 3, 1, 3, 2, 1, 1, 1, 3, 2, 3, 3, 1, 2, 2, 2, 1, 2, 3, 1]\n",
            "[1, 3, 1, 1, 2, 2, 2, 2, 2, 2, 3, 3, 2, 3, 2, 2, 2, 3, 1, 3, 2, 1, 1, 1, 3, 1, 3, 3, 1, 2, 2, 1, 1, 2, 3, 1]\n"
          ],
          "name": "stdout"
        }
      ]
    },
    {
      "cell_type": "code",
      "metadata": {
        "colab": {
          "base_uri": "https://localhost:8080/"
        },
        "id": "8pWbn3U1_Joi",
        "outputId": "78e22392-41de-45fb-873e-3c3a5571192d"
      },
      "source": [
        "#Árvore 2 Gini\n",
        "\n",
        "model = tree.DecisionTreeClassifier(criterion=\"gini\")\n",
        "model = model.fit(X_train, y_train)\n",
        "print(y_test)"
      ],
      "execution_count": 170,
      "outputs": [
        {
          "output_type": "stream",
          "text": [
            "40     1\n",
            "167    3\n",
            "4      1\n",
            "0      1\n",
            "113    2\n",
            "126    2\n",
            "77     2\n",
            "79     2\n",
            "122    2\n",
            "124    2\n",
            "162    3\n",
            "136    3\n",
            "78     2\n",
            "160    3\n",
            "98     2\n",
            "112    2\n",
            "62     2\n",
            "146    3\n",
            "33     1\n",
            "164    3\n",
            "80     2\n",
            "39     1\n",
            "12     1\n",
            "26     1\n",
            "138    3\n",
            "24     1\n",
            "170    3\n",
            "151    3\n",
            "53     1\n",
            "72     2\n",
            "70     2\n",
            "25     1\n",
            "8      1\n",
            "64     2\n",
            "152    3\n",
            "58     1\n",
            "Name: 0, dtype: int64\n"
          ],
          "name": "stdout"
        }
      ]
    },
    {
      "cell_type": "code",
      "metadata": {
        "colab": {
          "base_uri": "https://localhost:8080/"
        },
        "id": "2gJkVd91_oDu",
        "outputId": "926720f3-5fc3-44e4-f56b-56793f0544ae"
      },
      "source": [
        "result = model.predict(X_test)\n",
        "acc = metrics.accuracy_score(result, y_test)\n",
        "show = round(acc * 100)\n",
        "print(\"{}%\".format(show))\n",
        "\n",
        "print(list(result))\n",
        "print(list(y_test))"
      ],
      "execution_count": 171,
      "outputs": [
        {
          "output_type": "stream",
          "text": [
            "89%\n",
            "[1, 3, 2, 1, 2, 1, 2, 2, 2, 2, 3, 3, 2, 3, 2, 2, 2, 3, 1, 3, 2, 1, 1, 1, 3, 2, 3, 3, 1, 2, 2, 2, 1, 2, 3, 1]\n",
            "[1, 3, 1, 1, 2, 2, 2, 2, 2, 2, 3, 3, 2, 3, 2, 2, 2, 3, 1, 3, 2, 1, 1, 1, 3, 1, 3, 3, 1, 2, 2, 1, 1, 2, 3, 1]\n"
          ],
          "name": "stdout"
        }
      ]
    },
    {
      "cell_type": "code",
      "metadata": {
        "id": "5eW_h_QD_470"
      },
      "source": [
        "#kNN. euclidean n10\n",
        "n = 10\n",
        "\n",
        "model = KNeighborsClassifier(n_neighbors=n, metric='euclidean', algorithm='brute')\n",
        "model = model.fit(X_train, y_train)"
      ],
      "execution_count": 172,
      "outputs": []
    },
    {
      "cell_type": "code",
      "metadata": {
        "colab": {
          "base_uri": "https://localhost:8080/"
        },
        "id": "SCYA5Ytj_8z6",
        "outputId": "516ae331-fbb3-48e7-c29c-cb2393f0d83a"
      },
      "source": [
        "result = model.predict(X_test)\n",
        "acc = metrics.accuracy_score(result, y_test)\n",
        "show = round(acc * 100)\n",
        "print(\"{}%\".format(show))\n",
        "\n",
        "print(list(result))\n",
        "print(list(y_test))"
      ],
      "execution_count": 173,
      "outputs": [
        {
          "output_type": "stream",
          "text": [
            "50%\n",
            "[3, 2, 3, 1, 2, 2, 2, 2, 2, 2, 2, 3, 3, 2, 3, 3, 3, 2, 1, 3, 2, 3, 1, 1, 2, 3, 2, 2, 1, 2, 3, 3, 1, 2, 2, 1]\n",
            "[1, 3, 1, 1, 2, 2, 2, 2, 2, 2, 3, 3, 2, 3, 2, 2, 2, 3, 1, 3, 2, 1, 1, 1, 3, 1, 3, 3, 1, 2, 2, 1, 1, 2, 3, 1]\n"
          ],
          "name": "stdout"
        }
      ]
    },
    {
      "cell_type": "code",
      "metadata": {
        "id": "jLy7w-AzAGwi"
      },
      "source": [
        "#kNN. euclidean n20\n",
        "\n",
        "n = 20\n",
        "\n",
        "model = KNeighborsClassifier(n_neighbors=n, metric='euclidean', algorithm='brute')\n",
        "model = model.fit(X_train, y_train)"
      ],
      "execution_count": 174,
      "outputs": []
    },
    {
      "cell_type": "code",
      "metadata": {
        "colab": {
          "base_uri": "https://localhost:8080/"
        },
        "id": "YzxRSKh2AKnZ",
        "outputId": "924c2ea2-896a-42e1-b1d2-ede356b26a02"
      },
      "source": [
        "result = model.predict(X_test)\n",
        "acc = metrics.accuracy_score(result, y_test)\n",
        "show = round(acc * 100)\n",
        "print(\"{}%\".format(show))\n",
        "\n",
        "print(list(result))\n",
        "print(list(y_test))"
      ],
      "execution_count": 175,
      "outputs": [
        {
          "output_type": "stream",
          "text": [
            "58%\n",
            "[3, 3, 3, 1, 2, 2, 2, 2, 2, 2, 3, 3, 3, 2, 3, 3, 3, 2, 1, 3, 2, 3, 1, 1, 3, 3, 2, 2, 1, 2, 1, 3, 1, 2, 2, 1]\n",
            "[1, 3, 1, 1, 2, 2, 2, 2, 2, 2, 3, 3, 2, 3, 2, 2, 2, 3, 1, 3, 2, 1, 1, 1, 3, 1, 3, 3, 1, 2, 2, 1, 1, 2, 3, 1]\n"
          ],
          "name": "stdout"
        }
      ]
    },
    {
      "cell_type": "code",
      "metadata": {
        "id": "J8e5KwNaAS1t"
      },
      "source": [
        "#kNN. euclidean n30\n",
        "\n",
        "n = 30\n",
        "\n",
        "model = KNeighborsClassifier(n_neighbors=n, metric='euclidean', algorithm='brute')\n",
        "model = model.fit(X_train, y_train)"
      ],
      "execution_count": 176,
      "outputs": []
    },
    {
      "cell_type": "code",
      "metadata": {
        "colab": {
          "base_uri": "https://localhost:8080/"
        },
        "id": "3pAEarCwAXr9",
        "outputId": "5bc78e13-7a73-4ecd-c9f9-8bcd511145d3"
      },
      "source": [
        "result = model.predict(X_test)\n",
        "acc = metrics.accuracy_score(result, y_test)\n",
        "show = round(acc * 100)\n",
        "print(\"{}%\".format(show))\n",
        "\n",
        "print(list(result))\n",
        "print(list(y_test))"
      ],
      "execution_count": 177,
      "outputs": [
        {
          "output_type": "stream",
          "text": [
            "58%\n",
            "[3, 3, 3, 1, 2, 2, 2, 2, 2, 2, 3, 3, 3, 2, 3, 3, 3, 2, 1, 3, 2, 3, 1, 1, 3, 3, 2, 2, 1, 2, 1, 3, 1, 2, 2, 1]\n",
            "[1, 3, 1, 1, 2, 2, 2, 2, 2, 2, 3, 3, 2, 3, 2, 2, 2, 3, 1, 3, 2, 1, 1, 1, 3, 1, 3, 3, 1, 2, 2, 1, 1, 2, 3, 1]\n"
          ],
          "name": "stdout"
        }
      ]
    },
    {
      "cell_type": "code",
      "metadata": {
        "id": "AKfB891YAvg8"
      },
      "source": [
        "#kNN. chebyshev n10\n",
        "\n",
        "n = 10\n",
        "\n",
        "model = KNeighborsClassifier(n_neighbors=n, metric='chebyshev', algorithm='brute')\n",
        "model = model.fit(X_train, y_train)"
      ],
      "execution_count": 178,
      "outputs": []
    },
    {
      "cell_type": "code",
      "metadata": {
        "colab": {
          "base_uri": "https://localhost:8080/"
        },
        "id": "tUm1_HBXAygD",
        "outputId": "3bd1f5cb-aeef-44dd-e5c4-fee582235e09"
      },
      "source": [
        "result = model.predict(X_test)\n",
        "acc = metrics.accuracy_score(result, y_test)\n",
        "show = round(acc * 100)\n",
        "print(\"{}%\".format(show))\n",
        "\n",
        "print(list(result))\n",
        "print(list(y_test))"
      ],
      "execution_count": 179,
      "outputs": [
        {
          "output_type": "stream",
          "text": [
            "50%\n",
            "[3, 2, 3, 1, 2, 2, 2, 2, 2, 2, 2, 3, 3, 2, 3, 3, 3, 2, 1, 3, 2, 3, 1, 1, 2, 3, 2, 2, 1, 2, 3, 3, 1, 2, 2, 1]\n",
            "[1, 3, 1, 1, 2, 2, 2, 2, 2, 2, 3, 3, 2, 3, 2, 2, 2, 3, 1, 3, 2, 1, 1, 1, 3, 1, 3, 3, 1, 2, 2, 1, 1, 2, 3, 1]\n"
          ],
          "name": "stdout"
        }
      ]
    },
    {
      "cell_type": "code",
      "metadata": {
        "id": "ZR2QffPuBFZQ"
      },
      "source": [
        "#kNN. chebyshev n20\n",
        "\n",
        "n = 20\n",
        "\n",
        "model = KNeighborsClassifier(n_neighbors=n, metric='chebyshev', algorithm='brute')\n",
        "model = model.fit(X_train, y_train)"
      ],
      "execution_count": 180,
      "outputs": []
    },
    {
      "cell_type": "code",
      "metadata": {
        "colab": {
          "base_uri": "https://localhost:8080/"
        },
        "id": "nmoh7mppBGtx",
        "outputId": "d96c3560-1ea6-4c67-8914-8dc837877604"
      },
      "source": [
        "result = model.predict(X_test)\n",
        "acc = metrics.accuracy_score(result, y_test)\n",
        "show = round(acc * 100)\n",
        "print(\"{}%\".format(show))\n",
        "\n",
        "print(list(result))\n",
        "print(list(y_test))"
      ],
      "execution_count": 181,
      "outputs": [
        {
          "output_type": "stream",
          "text": [
            "58%\n",
            "[3, 3, 3, 1, 2, 2, 2, 2, 2, 2, 3, 3, 3, 2, 3, 3, 3, 2, 1, 3, 2, 3, 1, 1, 3, 3, 2, 2, 1, 2, 1, 3, 1, 2, 2, 1]\n",
            "[1, 3, 1, 1, 2, 2, 2, 2, 2, 2, 3, 3, 2, 3, 2, 2, 2, 3, 1, 3, 2, 1, 1, 1, 3, 1, 3, 3, 1, 2, 2, 1, 1, 2, 3, 1]\n"
          ],
          "name": "stdout"
        }
      ]
    },
    {
      "cell_type": "code",
      "metadata": {
        "id": "sXzC7Pa0BSty"
      },
      "source": [
        "#kNN. chebyshev n30\n",
        "\n",
        "n = 30\n",
        "\n",
        "model = KNeighborsClassifier(n_neighbors=n, metric='chebyshev', algorithm='brute')\n",
        "model = model.fit(X_train, y_train)"
      ],
      "execution_count": 182,
      "outputs": []
    },
    {
      "cell_type": "code",
      "metadata": {
        "colab": {
          "base_uri": "https://localhost:8080/"
        },
        "id": "UwrLXKJ7BZd2",
        "outputId": "b6fd6f72-4f3c-46f4-a5d8-cc919a84892e"
      },
      "source": [
        "result = model.predict(X_test)\n",
        "acc = metrics.accuracy_score(result, y_test)\n",
        "show = round(acc * 100)\n",
        "print(\"{}%\".format(show))\n",
        "\n",
        "print(list(result))\n",
        "print(list(y_test))"
      ],
      "execution_count": 183,
      "outputs": [
        {
          "output_type": "stream",
          "text": [
            "56%\n",
            "[3, 3, 3, 1, 2, 2, 2, 2, 2, 2, 2, 3, 3, 2, 3, 3, 3, 2, 1, 3, 2, 3, 1, 1, 3, 3, 2, 2, 1, 2, 1, 3, 1, 2, 2, 1]\n",
            "[1, 3, 1, 1, 2, 2, 2, 2, 2, 2, 3, 3, 2, 3, 2, 2, 2, 3, 1, 3, 2, 1, 1, 1, 3, 1, 3, 3, 1, 2, 2, 1, 1, 2, 3, 1]\n"
          ],
          "name": "stdout"
        }
      ]
    }
  ]
}

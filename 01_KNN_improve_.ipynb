{
  "nbformat": 4,
  "nbformat_minor": 0,
  "metadata": {
    "colab": {
      "name": "01-KNN improve  .ipynb",
      "provenance": [],
      "authorship_tag": "ABX9TyOgXgGM9ZcglorZejrjbtvl",
      "include_colab_link": true
    },
    "kernelspec": {
      "name": "python3",
      "display_name": "Python 3"
    },
    "language_info": {
      "name": "python"
    }
  },
  "cells": [
    {
      "cell_type": "markdown",
      "metadata": {
        "id": "view-in-github",
        "colab_type": "text"
      },
      "source": [
        "<a href=\"https://colab.research.google.com/github/jailcomfranssa/Projeto--Arvores-de-decisao-kNN./blob/master/01_KNN_improve_.ipynb\" target=\"_parent\"><img src=\"https://colab.research.google.com/assets/colab-badge.svg\" alt=\"Open In Colab\"/></a>"
      ]
    },
    {
      "cell_type": "code",
      "metadata": {
        "id": "2-DHtjDdUPUi"
      },
      "source": [
        "from sklearn.model_selection import train_test_split\n",
        "from sklearn import metrics\n",
        "import pandas as pd\n",
        "from sklearn.neighbors import KNeighborsClassifier\n",
        "import math\n",
        "from collections import Counter\n",
        "import numpy\n",
        "\n",
        "url = \"https://raw.githubusercontent.com/jailcomfranssa/Projeto--Arvores-de-decisao-kNN./master/wine.data\"\n",
        "\n",
        "dataset = pd.read_csv(url, header=None)\n",
        "columns = len(dataset.columns)\n",
        "\n",
        "y = dataset[0]\n",
        "X = dataset.loc[:,1:columns-1]"
      ],
      "execution_count": 1,
      "outputs": []
    },
    {
      "cell_type": "code",
      "metadata": {
        "id": "xpYQwc1kUbLb"
      },
      "source": [
        "X_train, X_test, y_train, y_test = train_test_split(X, y, test_size=0.2, random_state=None, stratify=y) # 80% treino e 20% teste\n",
        "\n",
        "K = 5   # Quantidade de vizinhos mais próximos\n",
        "\n",
        "### Tranforma os dados em listas\n",
        "\n",
        "train_x = X_train.values.tolist()\n",
        "train_y = y_train.values.tolist()\n",
        "\n",
        "test_x = X_test.values.tolist()\n",
        "test_y = y_test.values.tolist()"
      ],
      "execution_count": 2,
      "outputs": []
    },
    {
      "cell_type": "code",
      "metadata": {
        "colab": {
          "base_uri": "https://localhost:8080/"
        },
        "id": "01htF42IUeYi",
        "outputId": "7b3453e9-cef3-4aaa-94b9-ee64044733ec"
      },
      "source": [
        "resultKNN = []\n",
        "resultKNN_improve = []\n",
        "raios = calcular_raios(train_x, train_y)\n",
        "\n",
        "for i in range(len(test_x)):\n",
        "  \n",
        "  classe = knn(train_x, train_y, test_x[i], K)\n",
        "  resultKNN.append(classe)\n",
        "  \n",
        "  classeI = knn_improve(train_x, train_y, test_x[i], K, raios)\n",
        "  resultKNN_improve.append(classeI)\n",
        "\n",
        "acc = metrics.accuracy_score(resultKNN, test_y)\n",
        "acc2 = metrics.accuracy_score(resultKNN_improve, test_y)\n",
        "show = round(acc * 100)\n",
        "show2 = round(acc2 * 100)\n",
        "print(\"{}%\".format(show))\n",
        "print(\"{}%\".format(show2))\n",
        "\n",
        "print(resultKNN)\n",
        "print(resultKNN_improve)\n",
        "print(test_y)"
      ],
      "execution_count": 8,
      "outputs": [
        {
          "output_type": "stream",
          "text": [
            "67%\n",
            "56%\n",
            "[1, 1, 1, 1, 1, 2, 2, 1, 1, 2, 1, 3, 1, 1, 1, 2, 2, 2, 3, 2, 2, 3, 3, 2, 1, 1, 2, 3, 3, 2, 2, 3, 2, 1, 2, 2]\n",
            "[1, 1, 1, 1, 1, 2, 2, 1, 1, 2, 1, 1, 1, 1, 1, 2, 2, 2, 1, 2, 2, 1, 1, 2, 1, 1, 2, 1, 3, 2, 2, 1, 2, 1, 2, 2]\n",
            "[2, 1, 1, 1, 2, 3, 1, 3, 1, 2, 1, 3, 1, 1, 1, 3, 2, 3, 3, 2, 3, 2, 2, 2, 1, 1, 2, 3, 2, 2, 3, 3, 2, 1, 2, 2]\n"
          ],
          "name": "stdout"
        }
      ]
    },
    {
      "cell_type": "code",
      "metadata": {
        "id": "ndKgp80zUi2N"
      },
      "source": [
        "def knn(train_x, train_y, test, k):\n",
        "  results = []\n",
        "  \n",
        "  for i in range(0,len(train_x)):\n",
        "    r = 0\n",
        "    \n",
        "    for j in range(0,len(test)):\n",
        "      r += (test[j] - train_x[i][j]) ** 2 # Distância Euclidiana\n",
        "    \n",
        "    results.append(math.sqrt(r)) # Distância Euclidiana\n",
        "    \n",
        "  indexes = numpy.argsort(results) # retorna os índices ordenados\n",
        "  \n",
        "  indexes = indexes[0:k] # Pega os k índices mais próximos\n",
        "  \n",
        "  res = [train_y[i] for i in indexes] # Retorna a classe de cada um dos vizinhos\n",
        "  \n",
        "  final = Counter(res)\n",
        "\n",
        "  return final.most_common(1)[0][0] # retorna a classe com maior frequência"
      ],
      "execution_count": 4,
      "outputs": []
    },
    {
      "cell_type": "code",
      "metadata": {
        "id": "YKVmVVEHUnjH"
      },
      "source": [
        "###############\n",
        "#\n",
        "# KNN Improve\n",
        "#\n",
        "###############\n",
        "def calcular_raios(train_x, train_y):\n",
        "  e = 1e-20\n",
        "  raios = []\n",
        "\n",
        "  for i in range(len(train_x)):\n",
        "    newData = train_x.copy()\n",
        "    newData.pop(i)\n",
        "    newData_y = train_y.copy()\n",
        "    newData_y.pop(i)\n",
        "\n",
        "    results = []\n",
        "\n",
        "    for j in range(len(newData)):\n",
        "      r = 0\n",
        "      \n",
        "      for k in range(len(train_x[i])):\n",
        "        r += (train_x[i][k] - newData[j][k]) ** 2 # Distância Euclidiana\n",
        "  \n",
        "      results.append(math.sqrt(r))\n",
        "    \n",
        "    indexes = numpy.argsort(results) # retorna os índices ordenados\n",
        "\n",
        "    aux = 0\n",
        "    while train_y[i] == newData_y[indexes[aux]]:\n",
        "      aux += 1\n",
        "    \n",
        "    raios.append(results[indexes[aux]] - e)\n",
        "\n",
        "  return raios\n",
        "\n",
        "def knn_improve(train_x, train_y, test, k, raios):\n",
        "  results = []\n",
        "  \n",
        "  for i in range(len(train_x)):\n",
        "    r = 0\n",
        "    \n",
        "    for j in range(len(test)):\n",
        "      r += (test[j] - train_x[i][j]) ** 2 # Distância Euclidiana\n",
        "    \n",
        "    results.append(math.sqrt(r)/raios[i]) # Distância Euclidiana / Raio\n",
        "    \n",
        "  indexes = numpy.argsort(results) # retorna os índices ordenados\n",
        "  \n",
        "  indexes = indexes[0:k] # Pega os k índices mais próximos\n",
        "  \n",
        "  res = [train_y[i] for i in indexes] # Retorna a classe de cada um dos vizinhos\n",
        "  \n",
        "  final = Counter(res)\n",
        "\n",
        "  return final.most_common(1)[0][0] # retorna a classe com maior frequência"
      ],
      "execution_count": 5,
      "outputs": []
    },
    {
      "cell_type": "code",
      "metadata": {
        "id": "7KriCsx1U4Xd"
      },
      "source": [
        "K = 10   # Quantidade de vizinhos mais próximos\n",
        "\n",
        "### Tranforma os dados em listas\n",
        "\n",
        "train_x = X_train.values.tolist()\n",
        "train_y = y_train.values.tolist()\n",
        "\n",
        "test_x = X_test.values.tolist()\n",
        "test_y = y_test.values.tolist()"
      ],
      "execution_count": 6,
      "outputs": []
    },
    {
      "cell_type": "code",
      "metadata": {
        "colab": {
          "base_uri": "https://localhost:8080/"
        },
        "id": "PcN_IJtoU8yg",
        "outputId": "4a2c9ab6-af99-4af7-9f1b-e648beed9c1a"
      },
      "source": [
        "resultKNN = []\n",
        "resultKNN_improve = []\n",
        "\n",
        "raios = calcular_raios(train_x, train_y)\n",
        "\n",
        "for i in range(len(test_x)):\n",
        "  \n",
        "  classe = knn(train_x, train_y, test_x[i], K)\n",
        "  resultKNN.append(classe)\n",
        "  \n",
        "  classeI = knn_improve(train_x, train_y, test_x[i], K, raios)\n",
        "  resultKNN_improve.append(classeI)\n",
        "\n",
        "acc = metrics.accuracy_score(resultKNN, test_y)\n",
        "acc2 = metrics.accuracy_score(resultKNN_improve, test_y)\n",
        "show = round(acc * 100)\n",
        "show2 = round(acc2 * 100)\n",
        "print(\"{}%\".format(show))\n",
        "print(\"{}%\".format(show2))\n",
        "\n",
        "print(resultKNN)\n",
        "print(resultKNN_improve)\n",
        "print(test_y)"
      ],
      "execution_count": 7,
      "outputs": [
        {
          "output_type": "stream",
          "text": [
            "67%\n",
            "56%\n",
            "[1, 1, 1, 1, 1, 2, 2, 1, 1, 2, 1, 3, 1, 1, 1, 2, 2, 2, 3, 2, 2, 3, 3, 2, 1, 1, 2, 3, 3, 2, 2, 3, 2, 1, 2, 2]\n",
            "[1, 1, 1, 1, 1, 2, 2, 1, 1, 2, 1, 1, 1, 1, 1, 2, 2, 2, 1, 2, 2, 1, 1, 2, 1, 1, 2, 1, 3, 2, 2, 1, 2, 1, 2, 2]\n",
            "[2, 1, 1, 1, 2, 3, 1, 3, 1, 2, 1, 3, 1, 1, 1, 3, 2, 3, 3, 2, 3, 2, 2, 2, 1, 1, 2, 3, 2, 2, 3, 3, 2, 1, 2, 2]\n"
          ],
          "name": "stdout"
        }
      ]
    }
  ]
}
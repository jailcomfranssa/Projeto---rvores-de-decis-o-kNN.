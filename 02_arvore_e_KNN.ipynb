{
  "nbformat": 4,
  "nbformat_minor": 0,
  "metadata": {
    "colab": {
      "name": "02 arvore e KNN.ipynb",
      "provenance": [],
      "authorship_tag": "ABX9TyPxVpXOeP+WXPHzNcyJVsPW",
      "include_colab_link": true
    },
    "kernelspec": {
      "name": "python3",
      "display_name": "Python 3"
    },
    "language_info": {
      "name": "python"
    }
  },
  "cells": [
    {
      "cell_type": "markdown",
      "metadata": {
        "id": "view-in-github",
        "colab_type": "text"
      },
      "source": [
        "<a href=\"https://colab.research.google.com/github/jailcomfranssa/Projeto--Arvores-de-decisao-kNN./blob/master/02_arvore_e_KNN.ipynb\" target=\"_parent\"><img src=\"https://colab.research.google.com/assets/colab-badge.svg\" alt=\"Open In Colab\"/></a>"
      ]
    },
    {
      "cell_type": "code",
      "metadata": {
        "id": "xyBhA4qLsDj7"
      },
      "source": [
        "from sklearn import tree\n",
        "from sklearn.model_selection import train_test_split\n",
        "from sklearn import metrics\n",
        "import pandas as pd\n",
        "from sklearn.neighbors import KNeighborsClassifier\n",
        "import math\n",
        "import numpy\n",
        "from collections import Counter\n",
        "\n",
        "\n",
        "\n",
        "url = \"https://raw.githubusercontent.com/jailcomfranssa/Projeto--Arvores-de-decisao-kNN./master/hepatitis.data\"\n",
        "\n",
        "\n",
        "dataset = pd.read_csv(url, header=None)\n",
        "columns = len(dataset.columns)\n",
        "\n",
        "y = dataset[0]\n",
        "X = dataset.loc[:,1:columns-1]"
      ],
      "execution_count": 5,
      "outputs": []
    },
    {
      "cell_type": "code",
      "metadata": {
        "colab": {
          "base_uri": "https://localhost:8080/"
        },
        "id": "i4JHcZbis1eJ",
        "outputId": "de9b52b1-3932-425f-a315-6691adc59de1"
      },
      "source": [
        "X_train, X_test, y_train, y_test = train_test_split(X, y, test_size=0.2, random_state=None, stratify=y) # 80% treino e 20% teste\n",
        "\n",
        "\n",
        "print(y_test)"
      ],
      "execution_count": 6,
      "outputs": [
        {
          "output_type": "stream",
          "text": [
            "78    2\n",
            "67    2\n",
            "41    2\n",
            "48    2\n",
            "27    2\n",
            "17    2\n",
            "18    1\n",
            "65    2\n",
            "46    2\n",
            "37    2\n",
            "31    2\n",
            "11    2\n",
            "12    2\n",
            "62    2\n",
            "79    1\n",
            "60    1\n",
            "Name: 0, dtype: int64\n"
          ],
          "name": "stdout"
        }
      ]
    },
    {
      "cell_type": "code",
      "metadata": {
        "id": "VnNFkA7BZX-B"
      },
      "source": [
        "#Árvore 1 entropy\n",
        "model = tree.DecisionTreeClassifier(criterion=\"entropy\")\n",
        "model = model.fit(X_train, y_train)"
      ],
      "execution_count": 7,
      "outputs": []
    },
    {
      "cell_type": "code",
      "metadata": {
        "colab": {
          "base_uri": "https://localhost:8080/"
        },
        "id": "wv_lMQ3rbp5W",
        "outputId": "aa835a66-acc8-41ac-83d2-3809dde8449d"
      },
      "source": [
        "# Predição e Resultados\n",
        "\n",
        "result = model.predict(X_test)\n",
        "acc = metrics.accuracy_score(result, y_test)\n",
        "show = round(acc * 100)\n",
        "print(\"{}%\".format(show))\n",
        "\n",
        "print(list(result))\n",
        "print(list(y_test))"
      ],
      "execution_count": 8,
      "outputs": [
        {
          "output_type": "stream",
          "text": [
            "88%\n",
            "[1, 2, 2, 2, 2, 2, 2, 2, 2, 2, 2, 2, 2, 2, 1, 1]\n",
            "[2, 2, 2, 2, 2, 2, 1, 2, 2, 2, 2, 2, 2, 2, 1, 1]\n"
          ],
          "name": "stdout"
        }
      ]
    },
    {
      "cell_type": "code",
      "metadata": {
        "colab": {
          "base_uri": "https://localhost:8080/"
        },
        "id": "nW_MEwLMbx8h",
        "outputId": "4b3fd006-606d-44f8-da72-7e29beb81012"
      },
      "source": [
        "#Árvore 2 Gini\n",
        "\n",
        "model = tree.DecisionTreeClassifier(criterion=\"gini\")\n",
        "model = model.fit(X_train, y_train)\n",
        "print(y_test)"
      ],
      "execution_count": 9,
      "outputs": [
        {
          "output_type": "stream",
          "text": [
            "78    2\n",
            "67    2\n",
            "41    2\n",
            "48    2\n",
            "27    2\n",
            "17    2\n",
            "18    1\n",
            "65    2\n",
            "46    2\n",
            "37    2\n",
            "31    2\n",
            "11    2\n",
            "12    2\n",
            "62    2\n",
            "79    1\n",
            "60    1\n",
            "Name: 0, dtype: int64\n"
          ],
          "name": "stdout"
        }
      ]
    },
    {
      "cell_type": "code",
      "metadata": {
        "colab": {
          "base_uri": "https://localhost:8080/"
        },
        "id": "vnJD-b-kb6U7",
        "outputId": "c0f9d156-17a8-48b7-e4e7-f1ee9961e2b9"
      },
      "source": [
        "result = model.predict(X_test)\n",
        "acc = metrics.accuracy_score(result, y_test)\n",
        "show = round(acc * 100)\n",
        "print(\"{}%\".format(show))\n",
        "\n",
        "print(list(result))\n",
        "print(list(y_test))"
      ],
      "execution_count": 10,
      "outputs": [
        {
          "output_type": "stream",
          "text": [
            "94%\n",
            "[2, 2, 2, 2, 2, 2, 1, 2, 2, 2, 2, 2, 2, 2, 2, 1]\n",
            "[2, 2, 2, 2, 2, 2, 1, 2, 2, 2, 2, 2, 2, 2, 1, 1]\n"
          ],
          "name": "stdout"
        }
      ]
    },
    {
      "cell_type": "code",
      "metadata": {
        "id": "xBAMRkKMcBEY"
      },
      "source": [
        "#kNN. euclidean n10\n",
        "n = 10\n",
        "\n",
        "model = KNeighborsClassifier(n_neighbors=n, metric='euclidean', algorithm='brute')\n",
        "model = model.fit(X_train, y_train)"
      ],
      "execution_count": 11,
      "outputs": []
    },
    {
      "cell_type": "code",
      "metadata": {
        "colab": {
          "base_uri": "https://localhost:8080/"
        },
        "id": "WeHHe17ucGzS",
        "outputId": "b45264f9-0a72-4e34-9ef1-16b6de531ed9"
      },
      "source": [
        "result = model.predict(X_test)\n",
        "acc = metrics.accuracy_score(result, y_test)\n",
        "show = round(acc * 100)\n",
        "print(\"{}%\".format(show))\n",
        "\n",
        "print(list(result))\n",
        "print(list(y_test))"
      ],
      "execution_count": 12,
      "outputs": [
        {
          "output_type": "stream",
          "text": [
            "81%\n",
            "[2, 2, 2, 2, 2, 2, 2, 2, 2, 2, 2, 2, 2, 2, 2, 2]\n",
            "[2, 2, 2, 2, 2, 2, 1, 2, 2, 2, 2, 2, 2, 2, 1, 1]\n"
          ],
          "name": "stdout"
        }
      ]
    },
    {
      "cell_type": "code",
      "metadata": {
        "id": "DFeNI1UQcMN1"
      },
      "source": [
        "#kNN. euclidean n20\n",
        "\n",
        "n = 20\n",
        "\n",
        "model = KNeighborsClassifier(n_neighbors=n, metric='euclidean', algorithm='brute')\n",
        "model = model.fit(X_train, y_train)"
      ],
      "execution_count": 13,
      "outputs": []
    },
    {
      "cell_type": "code",
      "metadata": {
        "colab": {
          "base_uri": "https://localhost:8080/"
        },
        "id": "YOVZ32cOcQic",
        "outputId": "ef4b09b9-ea7a-4000-fabc-f210162cbe66"
      },
      "source": [
        "result = model.predict(X_test)\n",
        "acc = metrics.accuracy_score(result, y_test)\n",
        "show = round(acc * 100)\n",
        "print(\"{}%\".format(show))\n",
        "\n",
        "print(list(result))\n",
        "print(list(y_test))"
      ],
      "execution_count": 14,
      "outputs": [
        {
          "output_type": "stream",
          "text": [
            "81%\n",
            "[2, 2, 2, 2, 2, 2, 2, 2, 2, 2, 2, 2, 2, 2, 2, 2]\n",
            "[2, 2, 2, 2, 2, 2, 1, 2, 2, 2, 2, 2, 2, 2, 1, 1]\n"
          ],
          "name": "stdout"
        }
      ]
    },
    {
      "cell_type": "code",
      "metadata": {
        "id": "uuw2-10ycVMv"
      },
      "source": [
        "#kNN. euclidean n30\n",
        "\n",
        "n = 30\n",
        "\n",
        "model = KNeighborsClassifier(n_neighbors=n, metric='euclidean', algorithm='brute')\n",
        "model = model.fit(X_train, y_train)"
      ],
      "execution_count": 15,
      "outputs": []
    },
    {
      "cell_type": "code",
      "metadata": {
        "colab": {
          "base_uri": "https://localhost:8080/"
        },
        "id": "-DG47V4RcZMX",
        "outputId": "4174be1d-cea7-4837-da98-d8750f4e6899"
      },
      "source": [
        "result = model.predict(X_test)\n",
        "acc = metrics.accuracy_score(result, y_test)\n",
        "show = round(acc * 100)\n",
        "print(\"{}%\".format(show))\n",
        "\n",
        "print(list(result))\n",
        "print(list(y_test))"
      ],
      "execution_count": 16,
      "outputs": [
        {
          "output_type": "stream",
          "text": [
            "81%\n",
            "[2, 2, 2, 2, 2, 2, 2, 2, 2, 2, 2, 2, 2, 2, 2, 2]\n",
            "[2, 2, 2, 2, 2, 2, 1, 2, 2, 2, 2, 2, 2, 2, 1, 1]\n"
          ],
          "name": "stdout"
        }
      ]
    },
    {
      "cell_type": "code",
      "metadata": {
        "id": "Lmub4idVcfUQ"
      },
      "source": [
        "#kNN. chebyshev n10\n",
        "\n",
        "n = 10\n",
        "\n",
        "model = KNeighborsClassifier(n_neighbors=n, metric='chebyshev', algorithm='brute')\n",
        "model = model.fit(X_train, y_train)"
      ],
      "execution_count": 17,
      "outputs": []
    },
    {
      "cell_type": "code",
      "metadata": {
        "colab": {
          "base_uri": "https://localhost:8080/"
        },
        "id": "ieb7jGPdcj7r",
        "outputId": "20dec445-9c11-4efc-9459-3e42f5e5ccc7"
      },
      "source": [
        "result = model.predict(X_test)\n",
        "acc = metrics.accuracy_score(result, y_test)\n",
        "show = round(acc * 100)\n",
        "print(\"{}%\".format(show))\n",
        "\n",
        "print(list(result))\n",
        "print(list(y_test))"
      ],
      "execution_count": 18,
      "outputs": [
        {
          "output_type": "stream",
          "text": [
            "81%\n",
            "[2, 2, 2, 2, 2, 2, 2, 2, 2, 2, 2, 2, 2, 2, 2, 2]\n",
            "[2, 2, 2, 2, 2, 2, 1, 2, 2, 2, 2, 2, 2, 2, 1, 1]\n"
          ],
          "name": "stdout"
        }
      ]
    },
    {
      "cell_type": "code",
      "metadata": {
        "id": "8g_u4yS9coGw"
      },
      "source": [
        "#kNN. chebyshev n20\n",
        "\n",
        "n = 20\n",
        "\n",
        "model = KNeighborsClassifier(n_neighbors=n, metric='chebyshev', algorithm='brute')\n",
        "model = model.fit(X_train, y_train)"
      ],
      "execution_count": 19,
      "outputs": []
    },
    {
      "cell_type": "code",
      "metadata": {
        "colab": {
          "base_uri": "https://localhost:8080/"
        },
        "id": "dUCtmStOcsSt",
        "outputId": "882a9c13-d02c-41db-d36b-27df87ba96e6"
      },
      "source": [
        "result = model.predict(X_test)\n",
        "acc = metrics.accuracy_score(result, y_test)\n",
        "show = round(acc * 100)\n",
        "print(\"{}%\".format(show))\n",
        "\n",
        "print(list(result))\n",
        "print(list(y_test))"
      ],
      "execution_count": 20,
      "outputs": [
        {
          "output_type": "stream",
          "text": [
            "81%\n",
            "[2, 2, 2, 2, 2, 2, 2, 2, 2, 2, 2, 2, 2, 2, 2, 2]\n",
            "[2, 2, 2, 2, 2, 2, 1, 2, 2, 2, 2, 2, 2, 2, 1, 1]\n"
          ],
          "name": "stdout"
        }
      ]
    },
    {
      "cell_type": "code",
      "metadata": {
        "id": "dGeju7locxYq"
      },
      "source": [
        "#kNN. chebyshev n30\n",
        "\n",
        "n = 30\n",
        "\n",
        "model = KNeighborsClassifier(n_neighbors=n, metric='chebyshev', algorithm='brute')\n",
        "model = model.fit(X_train, y_train)"
      ],
      "execution_count": 21,
      "outputs": []
    },
    {
      "cell_type": "code",
      "metadata": {
        "colab": {
          "base_uri": "https://localhost:8080/"
        },
        "id": "EDoH--Xyc1fQ",
        "outputId": "2ec4487c-8f52-4ce0-873c-bb195f8f3226"
      },
      "source": [
        "result = model.predict(X_test)\n",
        "acc = metrics.accuracy_score(result, y_test)\n",
        "show = round(acc * 100)\n",
        "print(\"{}%\".format(show))\n",
        "\n",
        "print(list(result))\n",
        "print(list(y_test))"
      ],
      "execution_count": 27,
      "outputs": [
        {
          "output_type": "stream",
          "text": [
            "81%\n",
            "[2, 2, 2, 2, 2, 2, 2, 2, 2, 2, 2, 2, 2, 2, 2, 2]\n",
            "[2, 1, 2, 2, 2, 2, 2, 1, 2, 2, 2, 2, 2, 2, 1, 2]\n"
          ],
          "name": "stdout"
        }
      ]
    }
  ]
}
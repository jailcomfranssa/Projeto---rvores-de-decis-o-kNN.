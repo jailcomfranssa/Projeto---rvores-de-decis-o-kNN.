{
  "nbformat": 4,
  "nbformat_minor": 0,
  "metadata": {
    "colab": {
      "name": "Projeto 1.ipynb",
      "provenance": [],
      "mount_file_id": "1pNjYjDBeX0BOoPIrus8nnf83-4ONn1mV",
      "authorship_tag": "ABX9TyOb7tK+zzGI7EKLMyw8WHTc",
      "include_colab_link": true
    },
    "kernelspec": {
      "name": "python3",
      "display_name": "Python 3"
    },
    "language_info": {
      "name": "python"
    }
  },
  "cells": [
    {
      "cell_type": "markdown",
      "metadata": {
        "id": "view-in-github",
        "colab_type": "text"
      },
      "source": [
        "<a href=\"https://colab.research.google.com/github/jailcomfranssa/Projeto---rvores-de-decis-o-kNN./blob/master/Projeto_1.ipynb\" target=\"_parent\"><img src=\"https://colab.research.google.com/assets/colab-badge.svg\" alt=\"Open In Colab\"/></a>"
      ]
    },
    {
      "cell_type": "code",
      "metadata": {
        "colab": {
          "base_uri": "https://localhost:8080/"
        },
        "id": "nt70wxLeBGo2",
        "outputId": "6599d004-1377-4fef-fb4a-e622bd8d29a9"
      },
      "source": [
        "from google.colab import drive\n",
        "drive.mount('/content/drive')"
      ],
      "execution_count": 16,
      "outputs": [
        {
          "output_type": "stream",
          "text": [
            "Drive already mounted at /content/drive; to attempt to forcibly remount, call drive.mount(\"/content/drive\", force_remount=True).\n"
          ],
          "name": "stdout"
        }
      ]
    },
    {
      "cell_type": "code",
      "metadata": {
        "id": "B4j4Gmve6dUj"
      },
      "source": [
        "#Inports\n",
        "\n",
        "\n",
        "\n",
        "from sklearn import tree\n",
        "from sklearn.model_selection import train_test_split\n",
        "from sklearn import metrics\n",
        "import pandas as pd\n",
        "\n",
        "#url = '/content/drive/MyDrive/IFPB-py/wine.data'\n",
        "url = 'https://raw.githubusercontent.com/jailcomfranssa/winw/main/wine.data'\n",
        "\n",
        "#Carregando dados \n",
        "dataset = pd.read_csv(url, header=None)\n",
        "\n",
        "columns = len(dataset.columns)\n",
        "y = dataset[0]\n",
        "x= dataset.loc[:,1:columns-1]\n",
        "\n"
      ],
      "execution_count": 29,
      "outputs": []
    },
    {
      "cell_type": "code",
      "metadata": {
        "colab": {
          "base_uri": "https://localhost:8080/"
        },
        "id": "HG3EB1hcW7kS",
        "outputId": "e7c8aac5-fd20-42ff-f557-95028faffedf"
      },
      "source": [
        "X_train = pd.concat([X[0:40],X[50:90],X[100:140]])\n",
        "y_train = pd.concat([y[0:40],y[50:90],y[100:140]])\n",
        "\n",
        "X_test = pd.concat([X[40:50],X[90:100],X[140:150]])\n",
        "y_test = pd.concat([y[40:50],y[90:100],y[140:150]])\n",
        "\n",
        "print(y_test)"
      ],
      "execution_count": 30,
      "outputs": [
        {
          "output_type": "stream",
          "text": [
            "40     1\n",
            "41     1\n",
            "42     1\n",
            "43     1\n",
            "44     1\n",
            "45     1\n",
            "46     1\n",
            "47     1\n",
            "48     1\n",
            "49     1\n",
            "90     2\n",
            "91     2\n",
            "92     2\n",
            "93     2\n",
            "94     2\n",
            "95     2\n",
            "96     2\n",
            "97     2\n",
            "98     2\n",
            "99     2\n",
            "140    3\n",
            "141    3\n",
            "142    3\n",
            "143    3\n",
            "144    3\n",
            "145    3\n",
            "146    3\n",
            "147    3\n",
            "148    3\n",
            "149    3\n",
            "Name: 0, dtype: int64\n"
          ],
          "name": "stdout"
        }
      ]
    },
    {
      "cell_type": "code",
      "metadata": {
        "id": "KIiVlkvr8nfA"
      },
      "source": [
        "model = tree.DecisionTreeClassifier(criterion=\"entropy\")\n",
        "model = model.fit(X_train, y_train)\n"
      ],
      "execution_count": 31,
      "outputs": []
    },
    {
      "cell_type": "code",
      "metadata": {
        "colab": {
          "base_uri": "https://localhost:8080/"
        },
        "id": "rUbq3lOM_CLx",
        "outputId": "5c46eb0c-1040-46ea-d75c-4df26cd21e61"
      },
      "source": [
        "\n",
        "result = model.predict(X_test)\n",
        "acc = metrics.accuracy_score(result, y_test)\n",
        "show = round(acc * 100)\n",
        "print(\"{}%\".format(show))\n",
        "\n",
        "print(list(result))\n",
        "print(list(y_test))"
      ],
      "execution_count": 32,
      "outputs": [
        {
          "output_type": "stream",
          "text": [
            "83%\n",
            "[1, 1, 1, 2, 1, 1, 1, 1, 1, 1, 2, 2, 2, 2, 2, 2, 2, 2, 2, 2, 2, 1, 3, 3, 1, 1, 3, 3, 3, 3]\n",
            "[1, 1, 1, 1, 1, 1, 1, 1, 1, 1, 2, 2, 2, 2, 2, 2, 2, 2, 2, 2, 3, 3, 3, 3, 3, 3, 3, 3, 3, 3]\n"
          ],
          "name": "stdout"
        }
      ]
    },
    {
      "cell_type": "code",
      "metadata": {
        "colab": {
          "base_uri": "https://localhost:8080/",
          "height": 466
        },
        "id": "GCXyhebEEBfX",
        "outputId": "403404f3-c696-4709-c587-9429c3fcf55c"
      },
      "source": [
        "tree.plot_tree(model) "
      ],
      "execution_count": 28,
      "outputs": [
        {
          "output_type": "execute_result",
          "data": {
            "text/plain": [
              "[Text(200.88000000000002, 199.32, 'X[3] <= 727.5\\nentropy = 1.323\\nsamples = 120\\nvalue = [49, 61, 10]'),\n",
              " Text(133.92000000000002, 163.07999999999998, 'X[2] <= 2.19\\nentropy = 0.614\\nsamples = 66\\nvalue = [0, 56, 10]'),\n",
              " Text(100.44000000000001, 126.83999999999999, 'X[1] <= 0.935\\nentropy = 0.954\\nsamples = 16\\nvalue = [0, 6, 10]'),\n",
              " Text(66.96000000000001, 90.6, 'X[2] <= 1.915\\nentropy = 0.65\\nsamples = 12\\nvalue = [0, 2, 10]'),\n",
              " Text(33.480000000000004, 54.359999999999985, 'entropy = 0.0\\nsamples = 9\\nvalue = [0, 0, 9]'),\n",
              " Text(100.44000000000001, 54.359999999999985, 'X[3] <= 552.5\\nentropy = 0.918\\nsamples = 3\\nvalue = [0, 2, 1]'),\n",
              " Text(66.96000000000001, 18.119999999999976, 'entropy = 0.0\\nsamples = 2\\nvalue = [0, 2, 0]'),\n",
              " Text(133.92000000000002, 18.119999999999976, 'entropy = 0.0\\nsamples = 1\\nvalue = [0, 0, 1]'),\n",
              " Text(133.92000000000002, 90.6, 'entropy = 0.0\\nsamples = 4\\nvalue = [0, 4, 0]'),\n",
              " Text(167.40000000000003, 126.83999999999999, 'entropy = 0.0\\nsamples = 50\\nvalue = [0, 50, 0]'),\n",
              " Text(267.84000000000003, 163.07999999999998, 'X[0] <= 3.46\\nentropy = 0.445\\nsamples = 54\\nvalue = [49, 5, 0]'),\n",
              " Text(234.36, 126.83999999999999, 'entropy = 0.0\\nsamples = 5\\nvalue = [0, 5, 0]'),\n",
              " Text(301.32000000000005, 126.83999999999999, 'entropy = 0.0\\nsamples = 49\\nvalue = [49, 0, 0]')]"
            ]
          },
          "metadata": {
            "tags": []
          },
          "execution_count": 28
        },
        {
          "output_type": "display_data",
          "data": {
            "image/png": "[encoded data removed]",
            "text/plain": [
              "<Figure size 432x288 with 1 Axes>"
            ]
          },
          "metadata": {
            "tags": [],
            "needs_background": "light"
          }
        }
      ]
    }
  ]
}
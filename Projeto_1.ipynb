{
  "nbformat": 4,
  "nbformat_minor": 0,
  "metadata": {
    "colab": {
      "name": "Projeto 1.ipynb",
      "provenance": [],
      "mount_file_id": "1pNjYjDBeX0BOoPIrus8nnf83-4ONn1mV",
      "authorship_tag": "ABX9TyN9vhFtzv5psoP1a8JKNcKt",
      "include_colab_link": true
    },
    "kernelspec": {
      "name": "python3",
      "display_name": "Python 3"
    },
    "language_info": {
      "name": "python"
    }
  },
  "cells": [
    {
      "cell_type": "markdown",
      "metadata": {
        "id": "view-in-github",
        "colab_type": "text"
      },
      "source": [
        "<a href=\"https://colab.research.google.com/github/jailcomfranssa/Projeto---rvores-de-decis-o-kNN./blob/master/Projeto_1.ipynb\" target=\"_parent\"><img src=\"https://colab.research.google.com/assets/colab-badge.svg\" alt=\"Open In Colab\"/></a>"
      ]
    },
    {
      "cell_type": "code",
      "metadata": {
        "colab": {
          "base_uri": "https://localhost:8080/"
        },
        "id": "nt70wxLeBGo2",
        "outputId": "24ee275c-2bee-49ad-b213-7b13f499dcc3"
      },
      "source": [
        "from google.colab import drive\n",
        "drive.mount('/content/drive')"
      ],
      "execution_count": 38,
      "outputs": [
        {
          "output_type": "stream",
          "text": [
            "Drive already mounted at /content/drive; to attempt to forcibly remount, call drive.mount(\"/content/drive\", force_remount=True).\n"
          ],
          "name": "stdout"
        }
      ]
    },
    {
      "cell_type": "code",
      "metadata": {
        "id": "B4j4Gmve6dUj"
      },
      "source": [
        "#Inports\n",
        "\n",
        "\n",
        "\n",
        "from sklearn import tree\n",
        "from sklearn.model_selection import train_test_split\n",
        "from sklearn import metrics\n",
        "import pandas as pd\n",
        "\n",
        "#url = '/content/drive/MyDrive/IFPB-py/wine.data'\n",
        "url = 'https://raw.githubusercontent.com/jailcomfranssa/winw/main/wine.data'\n",
        "#Carregando dados \n",
        "dataset = pd.read_csv(url, header=None)\n",
        "\n",
        "columns = len(dataset.columns)\n",
        "y = dataset[0]\n",
        "x= dataset.loc[:,1:columns-1]\n",
        "\n"
      ],
      "execution_count": 39,
      "outputs": []
    },
    {
      "cell_type": "code",
      "metadata": {
        "colab": {
          "base_uri": "https://localhost:8080/"
        },
        "id": "HG3EB1hcW7kS",
        "outputId": "330c4dac-ed08-4b15-c533-6428efe579a6"
      },
      "source": [
        "X_train = pd.concat([X[0:50],X[59:121],X[130:169]])\n",
        "y_train = pd.concat([y[0:50],y[59:121],y[130:169]])\n",
        "\n",
        "X_test = pd.concat([X[50:59],X[121:130],X[169:178]])\n",
        "y_test = pd.concat([y[50:59],y[121:130],y[169:178]])\n",
        "\n",
        "print(y_test)"
      ],
      "execution_count": 40,
      "outputs": [
        {
          "output_type": "stream",
          "text": [
            "50     1\n",
            "51     1\n",
            "52     1\n",
            "53     1\n",
            "54     1\n",
            "55     1\n",
            "56     1\n",
            "57     1\n",
            "58     1\n",
            "121    2\n",
            "122    2\n",
            "123    2\n",
            "124    2\n",
            "125    2\n",
            "126    2\n",
            "127    2\n",
            "128    2\n",
            "129    2\n",
            "169    3\n",
            "170    3\n",
            "171    3\n",
            "172    3\n",
            "173    3\n",
            "174    3\n",
            "175    3\n",
            "176    3\n",
            "177    3\n",
            "Name: 0, dtype: int64\n"
          ],
          "name": "stdout"
        }
      ]
    },
    {
      "cell_type": "code",
      "metadata": {
        "id": "KIiVlkvr8nfA"
      },
      "source": [
        "model = tree.DecisionTreeClassifier(criterion=\"entropy\")\n",
        "model = model.fit(X_train, y_train)\n"
      ],
      "execution_count": 41,
      "outputs": []
    },
    {
      "cell_type": "code",
      "metadata": {
        "colab": {
          "base_uri": "https://localhost:8080/"
        },
        "id": "rUbq3lOM_CLx",
        "outputId": "c68a3114-5f48-492f-841e-177ae5e5077c"
      },
      "source": [
        "\n",
        "result = model.predict(X_test)\n",
        "acc = metrics.accuracy_score(result, y_test)\n",
        "show = round(acc * 100)\n",
        "print(\"{}%\".format(show))\n",
        "\n",
        "print(list(result))\n",
        "print(list(y_test))"
      ],
      "execution_count": 42,
      "outputs": [
        {
          "output_type": "stream",
          "text": [
            "93%\n",
            "[1, 1, 1, 1, 1, 1, 1, 1, 1, 1, 2, 2, 2, 2, 1, 2, 2, 2, 3, 3, 3, 3, 3, 3, 3, 3, 3]\n",
            "[1, 1, 1, 1, 1, 1, 1, 1, 1, 2, 2, 2, 2, 2, 2, 2, 2, 2, 3, 3, 3, 3, 3, 3, 3, 3, 3]\n"
          ],
          "name": "stdout"
        }
      ]
    },
    {
      "cell_type": "code",
      "metadata": {
        "colab": {
          "base_uri": "https://localhost:8080/",
          "height": 601
        },
        "id": "GCXyhebEEBfX",
        "outputId": "16854b52-a7a5-4526-b57d-d8b9512f757f"
      },
      "source": [
        "tree.plot_tree(model) "
      ],
      "execution_count": 43,
      "outputs": [
        {
          "output_type": "execute_result",
          "data": {
            "text/plain": [
              "[Text(167.4, 201.90857142857143, 'X[3] <= 755.0\\nentropy = 1.56\\nsamples = 151\\nvalue = [50, 62, 39]'),\n",
              " Text(83.7, 170.84571428571428, 'X[0] <= 3.825\\nentropy = 1.083\\nsamples = 95\\nvalue = [2, 58, 35]'),\n",
              " Text(62.775000000000006, 139.78285714285715, 'entropy = 0.0\\nsamples = 49\\nvalue = [0, 49, 0]'),\n",
              " Text(104.625, 139.78285714285715, 'X[1] <= 0.97\\nentropy = 0.957\\nsamples = 46\\nvalue = [2, 9, 35]'),\n",
              " Text(62.775000000000006, 108.72, 'X[2] <= 2.655\\nentropy = 0.357\\nsamples = 37\\nvalue = [1, 1, 35]'),\n",
              " Text(41.85, 77.65714285714284, 'X[2] <= 1.985\\nentropy = 0.183\\nsamples = 36\\nvalue = [0, 1, 35]'),\n",
              " Text(20.925, 46.59428571428572, 'entropy = 0.0\\nsamples = 30\\nvalue = [0, 0, 30]'),\n",
              " Text(62.775000000000006, 46.59428571428572, 'X[3] <= 517.5\\nentropy = 0.65\\nsamples = 6\\nvalue = [0, 1, 5]'),\n",
              " Text(41.85, 15.531428571428563, 'entropy = 0.0\\nsamples = 1\\nvalue = [0, 1, 0]'),\n",
              " Text(83.7, 15.531428571428563, 'entropy = 0.0\\nsamples = 5\\nvalue = [0, 0, 5]'),\n",
              " Text(83.7, 77.65714285714284, 'entropy = 0.0\\nsamples = 1\\nvalue = [1, 0, 0]'),\n",
              " Text(146.475, 108.72, 'X[3] <= 724.5\\nentropy = 0.503\\nsamples = 9\\nvalue = [1, 8, 0]'),\n",
              " Text(125.55000000000001, 77.65714285714284, 'entropy = 0.0\\nsamples = 8\\nvalue = [0, 8, 0]'),\n",
              " Text(167.4, 77.65714285714284, 'entropy = 0.0\\nsamples = 1\\nvalue = [1, 0, 0]'),\n",
              " Text(251.10000000000002, 170.84571428571428, 'X[2] <= 2.49\\nentropy = 0.735\\nsamples = 56\\nvalue = [48, 4, 4]'),\n",
              " Text(209.25, 139.78285714285715, 'X[1] <= 0.803\\nentropy = 0.722\\nsamples = 5\\nvalue = [0, 1, 4]'),\n",
              " Text(188.32500000000002, 108.72, 'entropy = 0.0\\nsamples = 4\\nvalue = [0, 0, 4]'),\n",
              " Text(230.175, 108.72, 'entropy = 0.0\\nsamples = 1\\nvalue = [0, 1, 0]'),\n",
              " Text(292.95, 139.78285714285715, 'X[0] <= 3.435\\nentropy = 0.323\\nsamples = 51\\nvalue = [48, 3, 0]'),\n",
              " Text(272.02500000000003, 108.72, 'entropy = 0.0\\nsamples = 3\\nvalue = [0, 3, 0]'),\n",
              " Text(313.875, 108.72, 'entropy = 0.0\\nsamples = 48\\nvalue = [48, 0, 0]')]"
            ]
          },
          "metadata": {
            "tags": []
          },
          "execution_count": 43
        },
        {
          "output_type": "display_data",
          "data": {
            "image/png": "[encoded data removed]",
            "text/plain": [
              "<Figure size 432x288 with 1 Axes>"
            ]
          },
          "metadata": {
            "tags": [],
            "needs_background": "light"
          }
        }
      ]
    }
  ]
}
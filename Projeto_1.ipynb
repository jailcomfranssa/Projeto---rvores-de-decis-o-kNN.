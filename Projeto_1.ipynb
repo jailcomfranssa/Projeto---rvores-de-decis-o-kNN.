{
  "nbformat": 4,
  "nbformat_minor": 0,
  "metadata": {
    "colab": {
      "name": "Projeto 1.ipynb",
      "provenance": [],
      "mount_file_id": "1pNjYjDBeX0BOoPIrus8nnf83-4ONn1mV",
      "authorship_tag": "ABX9TyPcMMUBHM31yeGvKVujiGLt",
      "include_colab_link": true
    },
    "kernelspec": {
      "name": "python3",
      "display_name": "Python 3"
    },
    "language_info": {
      "name": "python"
    }
  },
  "cells": [
    {
      "cell_type": "markdown",
      "metadata": {
        "id": "view-in-github",
        "colab_type": "text"
      },
      "source": [
        "<a href=\"https://colab.research.google.com/github/jailcomfranssa/Projeto---rvores-de-decis-o-kNN./blob/master/Projeto_1.ipynb\" target=\"_parent\"><img src=\"https://colab.research.google.com/assets/colab-badge.svg\" alt=\"Open In Colab\"/></a>"
      ]
    },
    {
      "cell_type": "code",
      "metadata": {
        "colab": {
          "base_uri": "https://localhost:8080/"
        },
        "id": "nt70wxLeBGo2",
        "outputId": "24ee275c-2bee-49ad-b213-7b13f499dcc3"
      },
      "source": [
        "from google.colab import drive\n",
        "drive.mount('/content/drive')"
      ],
      "execution_count": 38,
      "outputs": [
        {
          "output_type": "stream",
          "text": [
            "Drive already mounted at /content/drive; to attempt to forcibly remount, call drive.mount(\"/content/drive\", force_remount=True).\n"
          ],
          "name": "stdout"
        }
      ]
    },
    {
      "cell_type": "code",
      "metadata": {
        "id": "B4j4Gmve6dUj"
      },
      "source": [
        "#Inports\n",
        "\n",
        "\n",
        "\n",
        "from sklearn import tree\n",
        "from sklearn.model_selection import train_test_split\n",
        "from sklearn import metrics\n",
        "import pandas as pd\n",
        "\n",
        "#url = '/content/drive/MyDrive/IFPB-py/wine.data'\n",
        "url = 'https://raw.githubusercontent.com/jailcomfranssa/winw/main/wine.data'\n",
        "#Carregando dados \n",
        "dataset = pd.read_csv(url, header=None)\n",
        "\n",
        "columns = len(dataset.columns)\n",
        "y = dataset[0]\n",
        "x= dataset.loc[:,1:columns-1]\n",
        "\n"
      ],
      "execution_count": 39,
      "outputs": []
    },
    {
      "cell_type": "code",
      "metadata": {
        "colab": {
          "base_uri": "https://localhost:8080/"
        },
        "id": "HG3EB1hcW7kS",
        "outputId": "2e970eba-ecb0-40f8-afe2-c5895f310fc9"
      },
      "source": [
        "X_train, X_test, y_train, y_test = train_test_split(X, y, test_size=0.2, random_state=None, stratify=y) # 80% treino e 20% teste\n",
        "\n",
        "#X_train = pd.concat([X[0:50],X[59:121],X[130:169]])\n",
        "#y_train = pd.concat([y[0:50],y[59:121],y[130:169]])\n",
        "\n",
        "#X_test = pd.concat([X[50:59],X[121:130],X[169:178]])\n",
        "#y_test = pd.concat([y[50:59],y[121:130],y[169:178]])\n",
        "\n",
        "print(y_test)"
      ],
      "execution_count": 44,
      "outputs": [
        {
          "output_type": "stream",
          "text": [
            "143    3\n",
            "136    3\n",
            "82     2\n",
            "68     2\n",
            "99     2\n",
            "89     2\n",
            "137    3\n",
            "39     1\n",
            "6      1\n",
            "85     2\n",
            "125    2\n",
            "17     1\n",
            "12     1\n",
            "115    2\n",
            "29     1\n",
            "116    2\n",
            "80     2\n",
            "155    3\n",
            "156    3\n",
            "83     2\n",
            "150    3\n",
            "27     1\n",
            "23     1\n",
            "166    3\n",
            "64     2\n",
            "14     1\n",
            "170    3\n",
            "132    3\n",
            "20     1\n",
            "162    3\n",
            "19     1\n",
            "76     2\n",
            "13     1\n",
            "54     1\n",
            "123    2\n",
            "95     2\n",
            "Name: 0, dtype: int64\n"
          ],
          "name": "stdout"
        }
      ]
    },
    {
      "cell_type": "code",
      "metadata": {
        "id": "KIiVlkvr8nfA"
      },
      "source": [
        "model = tree.DecisionTreeClassifier(criterion=\"entropy\")\n",
        "model = model.fit(X_train, y_train)\n"
      ],
      "execution_count": 45,
      "outputs": []
    },
    {
      "cell_type": "code",
      "metadata": {
        "colab": {
          "base_uri": "https://localhost:8080/"
        },
        "id": "rUbq3lOM_CLx",
        "outputId": "d427a727-c273-4ee3-e978-4681ffea5031"
      },
      "source": [
        "\n",
        "result = model.predict(X_test)\n",
        "acc = metrics.accuracy_score(result, y_test)\n",
        "show = round(acc * 100)\n",
        "print(\"{}%\".format(show))\n",
        "\n",
        "print(list(result))\n",
        "print(list(y_test))"
      ],
      "execution_count": 46,
      "outputs": [
        {
          "output_type": "stream",
          "text": [
            "94%\n",
            "[3, 2, 2, 2, 2, 2, 3, 1, 1, 2, 2, 1, 1, 2, 1, 2, 2, 3, 3, 3, 3, 1, 1, 3, 2, 1, 3, 3, 1, 3, 1, 2, 1, 1, 2, 2]\n",
            "[3, 3, 2, 2, 2, 2, 3, 1, 1, 2, 2, 1, 1, 2, 1, 2, 2, 3, 3, 2, 3, 1, 1, 3, 2, 1, 3, 3, 1, 3, 1, 2, 1, 1, 2, 2]\n"
          ],
          "name": "stdout"
        }
      ]
    },
    {
      "cell_type": "code",
      "metadata": {
        "colab": {
          "base_uri": "https://localhost:8080/",
          "height": 500
        },
        "id": "GCXyhebEEBfX",
        "outputId": "698b681d-8404-4176-fb76-c9d3b731e5b5"
      },
      "source": [
        "tree.plot_tree(model) "
      ],
      "execution_count": 47,
      "outputs": [
        {
          "output_type": "execute_result",
          "data": {
            "text/plain": [
              "[Text(141.64615384615385, 195.696, 'X[2] <= 2.485\\nentropy = 1.566\\nsamples = 142\\nvalue = [47, 57, 38]'),\n",
              " Text(51.50769230769231, 152.208, 'X[0] <= 3.9\\nentropy = 0.892\\nsamples = 55\\nvalue = [0, 17, 38]'),\n",
              " Text(25.753846153846155, 108.72, 'entropy = 0.0\\nsamples = 15\\nvalue = [0, 15, 0]'),\n",
              " Text(77.26153846153846, 108.72, 'X[1] <= 0.97\\nentropy = 0.286\\nsamples = 40\\nvalue = [0, 2, 38]'),\n",
              " Text(51.50769230769231, 65.232, 'entropy = 0.0\\nsamples = 38\\nvalue = [0, 0, 38]'),\n",
              " Text(103.01538461538462, 65.232, 'entropy = 0.0\\nsamples = 2\\nvalue = [0, 2, 0]'),\n",
              " Text(231.7846153846154, 152.208, 'X[3] <= 726.5\\nentropy = 0.995\\nsamples = 87\\nvalue = [47, 40, 0]'),\n",
              " Text(180.27692307692308, 108.72, 'X[0] <= 4.15\\nentropy = 0.172\\nsamples = 39\\nvalue = [1, 38, 0]'),\n",
              " Text(154.52307692307693, 65.232, 'entropy = 0.0\\nsamples = 33\\nvalue = [0, 33, 0]'),\n",
              " Text(206.03076923076924, 65.232, 'X[1] <= 0.875\\nentropy = 0.65\\nsamples = 6\\nvalue = [1, 5, 0]'),\n",
              " Text(180.27692307692308, 21.744, 'entropy = 0.0\\nsamples = 1\\nvalue = [1, 0, 0]'),\n",
              " Text(231.7846153846154, 21.744, 'entropy = 0.0\\nsamples = 5\\nvalue = [0, 5, 0]'),\n",
              " Text(283.2923076923077, 108.72, 'X[0] <= 3.435\\nentropy = 0.25\\nsamples = 48\\nvalue = [46, 2, 0]'),\n",
              " Text(257.53846153846155, 65.232, 'entropy = 0.0\\nsamples = 2\\nvalue = [0, 2, 0]'),\n",
              " Text(309.04615384615386, 65.232, 'entropy = 0.0\\nsamples = 46\\nvalue = [46, 0, 0]')]"
            ]
          },
          "metadata": {
            "tags": []
          },
          "execution_count": 47
        },
        {
          "output_type": "display_data",
          "data": {
            "image/png": "[encoded data removed]",
            "text/plain": [
              "<Figure size 432x288 with 1 Axes>"
            ]
          },
          "metadata": {
            "tags": [],
            "needs_background": "light"
          }
        }
      ]
    }
  ]
}
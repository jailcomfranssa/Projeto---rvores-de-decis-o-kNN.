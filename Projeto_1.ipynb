{
  "nbformat": 4,
  "nbformat_minor": 0,
  "metadata": {
    "colab": {
      "name": "Projeto 1.ipynb",
      "provenance": [],
      "mount_file_id": "1pNjYjDBeX0BOoPIrus8nnf83-4ONn1mV",
      "authorship_tag": "ABX9TyPkRN15ahTJHtRK499gIH4e",
      "include_colab_link": true
    },
    "kernelspec": {
      "name": "python3",
      "display_name": "Python 3"
    },
    "language_info": {
      "name": "python"
    }
  },
  "cells": [
    {
      "cell_type": "markdown",
      "metadata": {
        "id": "view-in-github",
        "colab_type": "text"
      },
      "source": [
        "<a href=\"https://colab.research.google.com/github/jailcomfranssa/Projeto---rvores-de-decis-o-kNN./blob/master/Projeto_1.ipynb\" target=\"_parent\"><img src=\"https://colab.research.google.com/assets/colab-badge.svg\" alt=\"Open In Colab\"/></a>"
      ]
    },
    {
      "cell_type": "code",
      "metadata": {
        "colab": {
          "base_uri": "https://localhost:8080/"
        },
        "id": "nt70wxLeBGo2",
        "outputId": "24ee275c-2bee-49ad-b213-7b13f499dcc3"
      },
      "source": [
        "from google.colab import drive\n",
        "drive.mount('/content/drive')"
      ],
      "execution_count": 38,
      "outputs": [
        {
          "output_type": "stream",
          "text": [
            "Drive already mounted at /content/drive; to attempt to forcibly remount, call drive.mount(\"/content/drive\", force_remount=True).\n"
          ],
          "name": "stdout"
        }
      ]
    },
    {
      "cell_type": "code",
      "metadata": {
        "id": "B4j4Gmve6dUj"
      },
      "source": [
        "#Inports\n",
        "\n",
        "\n",
        "\n",
        "from sklearn import tree\n",
        "from sklearn.model_selection import train_test_split\n",
        "from sklearn import metrics\n",
        "import pandas as pd\n",
        "\n",
        "#url = '/content/drive/MyDrive/IFPB-py/wine.data'\n",
        "url = 'https://raw.githubusercontent.com/jailcomfranssa/winw/main/wine.data'\n",
        "#Carregando dados \n",
        "dataset = pd.read_csv(url, header=None)\n",
        "\n",
        "columns = len(dataset.columns)\n",
        "y = dataset[0]\n",
        "x= dataset.loc[:,1:columns-1]\n",
        "\n"
      ],
      "execution_count": 59,
      "outputs": []
    },
    {
      "cell_type": "code",
      "metadata": {
        "colab": {
          "base_uri": "https://localhost:8080/"
        },
        "id": "HG3EB1hcW7kS",
        "outputId": "1fa2a95a-8762-48a2-eb06-6bfc56aad657"
      },
      "source": [
        "#árvores de decisão com entropy & gini\n",
        "\n",
        "X_train, X_test, y_train, y_test = train_test_split(X, y, test_size=0.2, random_state=None, stratify=y) # 80% treino e 20% teste\n",
        "\n",
        "#X_train = pd.concat([X[0:50],X[59:121],X[130:169]])\n",
        "#y_train = pd.concat([y[0:50],y[59:121],y[130:169]])\n",
        "\n",
        "#X_test = pd.concat([X[50:59],X[121:130],X[169:178]])\n",
        "#y_test = pd.concat([y[50:59],y[121:130],y[169:178]])\n",
        "\n",
        "print(y_test)"
      ],
      "execution_count": 60,
      "outputs": [
        {
          "output_type": "stream",
          "text": [
            "161    3\n",
            "19     1\n",
            "18     1\n",
            "71     2\n",
            "8      1\n",
            "61     2\n",
            "92     2\n",
            "118    2\n",
            "5      1\n",
            "171    3\n",
            "39     1\n",
            "3      1\n",
            "96     2\n",
            "91     2\n",
            "111    2\n",
            "12     1\n",
            "159    3\n",
            "165    3\n",
            "158    3\n",
            "78     2\n",
            "36     1\n",
            "99     2\n",
            "13     1\n",
            "32     1\n",
            "97     2\n",
            "160    3\n",
            "94     2\n",
            "110    2\n",
            "168    3\n",
            "122    2\n",
            "173    3\n",
            "76     2\n",
            "169    3\n",
            "1      1\n",
            "31     1\n",
            "141    3\n",
            "Name: 0, dtype: int64\n"
          ],
          "name": "stdout"
        }
      ]
    },
    {
      "cell_type": "code",
      "metadata": {
        "id": "KIiVlkvr8nfA"
      },
      "source": [
        "model = tree.DecisionTreeClassifier(criterion=\"entropy\")\n",
        "model = model.fit(X_train, y_train)\n"
      ],
      "execution_count": 61,
      "outputs": []
    },
    {
      "cell_type": "code",
      "metadata": {
        "colab": {
          "base_uri": "https://localhost:8080/"
        },
        "id": "rUbq3lOM_CLx",
        "outputId": "7cb53e44-e7ac-4ff7-9316-a5a8042f1a7a"
      },
      "source": [
        "\n",
        "result = model.predict(X_test)\n",
        "acc = metrics.accuracy_score(result, y_test)\n",
        "show = round(acc * 100)\n",
        "print(\"{}%\".format(show))\n",
        "\n",
        "\n",
        "print(list(result))\n",
        "print(list(y_test))"
      ],
      "execution_count": 62,
      "outputs": [
        {
          "output_type": "stream",
          "text": [
            "86%\n",
            "[2, 1, 1, 2, 1, 2, 3, 3, 1, 3, 1, 1, 3, 2, 2, 1, 3, 3, 3, 2, 1, 2, 1, 1, 2, 3, 2, 2, 3, 2, 3, 2, 3, 1, 1, 1]\n",
            "[3, 1, 1, 2, 1, 2, 2, 2, 1, 3, 1, 1, 2, 2, 2, 1, 3, 3, 3, 2, 1, 2, 1, 1, 2, 3, 2, 2, 3, 2, 3, 2, 3, 1, 1, 3]\n"
          ],
          "name": "stdout"
        }
      ]
    },
    {
      "cell_type": "code",
      "metadata": {
        "colab": {
          "base_uri": "https://localhost:8080/",
          "height": 567
        },
        "id": "GCXyhebEEBfX",
        "outputId": "215c8f48-3e15-438b-a3bc-e36465e286b2"
      },
      "source": [
        "tree.plot_tree(model) "
      ],
      "execution_count": 63,
      "outputs": [
        {
          "output_type": "execute_result",
          "data": {
            "text/plain": [
              "[Text(153.45000000000002, 199.32, 'X[2] <= 2.365\\nentropy = 1.566\\nsamples = 142\\nvalue = [47, 57, 38]'),\n",
              " Text(83.7, 163.07999999999998, 'X[1] <= 0.965\\nentropy = 0.768\\nsamples = 49\\nvalue = [0, 11, 38]'),\n",
              " Text(55.800000000000004, 126.83999999999999, 'X[1] <= 0.83\\nentropy = 0.286\\nsamples = 40\\nvalue = [0, 2, 38]'),\n",
              " Text(27.900000000000002, 90.6, 'entropy = 0.0\\nsamples = 33\\nvalue = [0, 0, 33]'),\n",
              " Text(83.7, 90.6, 'X[2] <= 2.03\\nentropy = 0.863\\nsamples = 7\\nvalue = [0, 2, 5]'),\n",
              " Text(55.800000000000004, 54.359999999999985, 'X[2] <= 1.69\\nentropy = 0.918\\nsamples = 3\\nvalue = [0, 2, 1]'),\n",
              " Text(27.900000000000002, 18.119999999999976, 'entropy = 0.0\\nsamples = 1\\nvalue = [0, 0, 1]'),\n",
              " Text(83.7, 18.119999999999976, 'entropy = 0.0\\nsamples = 2\\nvalue = [0, 2, 0]'),\n",
              " Text(111.60000000000001, 54.359999999999985, 'entropy = 0.0\\nsamples = 4\\nvalue = [0, 0, 4]'),\n",
              " Text(111.60000000000001, 126.83999999999999, 'entropy = 0.0\\nsamples = 9\\nvalue = [0, 9, 0]'),\n",
              " Text(223.20000000000002, 163.07999999999998, 'X[3] <= 726.5\\nentropy = 1.0\\nsamples = 93\\nvalue = [47, 46, 0]'),\n",
              " Text(167.4, 126.83999999999999, 'X[3] <= 676.0\\nentropy = 0.156\\nsamples = 44\\nvalue = [1, 43, 0]'),\n",
              " Text(139.5, 90.6, 'entropy = 0.0\\nsamples = 38\\nvalue = [0, 38, 0]'),\n",
              " Text(195.3, 90.6, 'X[0] <= 4.13\\nentropy = 0.65\\nsamples = 6\\nvalue = [1, 5, 0]'),\n",
              " Text(167.4, 54.359999999999985, 'entropy = 0.0\\nsamples = 5\\nvalue = [0, 5, 0]'),\n",
              " Text(223.20000000000002, 54.359999999999985, 'entropy = 0.0\\nsamples = 1\\nvalue = [1, 0, 0]'),\n",
              " Text(279.0, 126.83999999999999, 'X[0] <= 3.435\\nentropy = 0.332\\nsamples = 49\\nvalue = [46, 3, 0]'),\n",
              " Text(251.10000000000002, 90.6, 'entropy = 0.0\\nsamples = 3\\nvalue = [0, 3, 0]'),\n",
              " Text(306.90000000000003, 90.6, 'entropy = 0.0\\nsamples = 46\\nvalue = [46, 0, 0]')]"
            ]
          },
          "metadata": {
            "tags": []
          },
          "execution_count": 63
        },
        {
          "output_type": "display_data",
          "data": {
            "image/png": "[encoded data removed]",
            "text/plain": [
              "<Figure size 432x288 with 1 Axes>"
            ]
          },
          "metadata": {
            "tags": [],
            "needs_background": "light"
          }
        }
      ]
    },
    {
      "cell_type": "code",
      "metadata": {
        "colab": {
          "base_uri": "https://localhost:8080/"
        },
        "id": "ZvOkNM8Z-QaD",
        "outputId": "db17f5e2-23ff-40ee-e493-44eb301b5727"
      },
      "source": [
        "#X_train, X_test, y_train, y_test = train_test_split(X, y, test_size=0.2, random_state=None, stratify=y) # 80% treino e 20% teste\n",
        "\n",
        "model = tree.DecisionTreeClassifier(criterion=\"gini\")\n",
        "model = model.fit(X_train, y_train)\n",
        "print(y_test)"
      ],
      "execution_count": 64,
      "outputs": [
        {
          "output_type": "stream",
          "text": [
            "161    3\n",
            "19     1\n",
            "18     1\n",
            "71     2\n",
            "8      1\n",
            "61     2\n",
            "92     2\n",
            "118    2\n",
            "5      1\n",
            "171    3\n",
            "39     1\n",
            "3      1\n",
            "96     2\n",
            "91     2\n",
            "111    2\n",
            "12     1\n",
            "159    3\n",
            "165    3\n",
            "158    3\n",
            "78     2\n",
            "36     1\n",
            "99     2\n",
            "13     1\n",
            "32     1\n",
            "97     2\n",
            "160    3\n",
            "94     2\n",
            "110    2\n",
            "168    3\n",
            "122    2\n",
            "173    3\n",
            "76     2\n",
            "169    3\n",
            "1      1\n",
            "31     1\n",
            "141    3\n",
            "Name: 0, dtype: int64\n"
          ],
          "name": "stdout"
        }
      ]
    },
    {
      "cell_type": "code",
      "metadata": {
        "colab": {
          "base_uri": "https://localhost:8080/"
        },
        "id": "rYF05q8K-igE",
        "outputId": "26fc0958-8b1b-4e44-937c-66d6df6d6563"
      },
      "source": [
        "result = model.predict(X_test)\n",
        "acc = metrics.accuracy_score(result, y_test)\n",
        "show = round(acc * 100)\n",
        "print(\"{}%\".format(show))\n",
        "\n",
        "print(list(result))\n",
        "print(list(y_test))"
      ],
      "execution_count": 65,
      "outputs": [
        {
          "output_type": "stream",
          "text": [
            "97%\n",
            "[3, 1, 1, 2, 1, 2, 2, 2, 1, 3, 1, 1, 2, 2, 2, 1, 3, 3, 3, 2, 1, 2, 1, 1, 2, 3, 2, 2, 3, 2, 3, 2, 3, 1, 1, 1]\n",
            "[3, 1, 1, 2, 1, 2, 2, 2, 1, 3, 1, 1, 2, 2, 2, 1, 3, 3, 3, 2, 1, 2, 1, 1, 2, 3, 2, 2, 3, 2, 3, 2, 3, 1, 1, 3]\n"
          ],
          "name": "stdout"
        }
      ]
    },
    {
      "cell_type": "code",
      "metadata": {
        "colab": {
          "base_uri": "https://localhost:8080/",
          "height": 534
        },
        "id": "vPvJ8a7g-oGq",
        "outputId": "6ef52839-6911-408e-f169-ef157df6d234"
      },
      "source": [
        "tree.plot_tree(model) "
      ],
      "execution_count": 66,
      "outputs": [
        {
          "output_type": "execute_result",
          "data": {
            "text/plain": [
              "[Text(148.8, 199.32, 'X[0] <= 3.46\\ngini = 0.658\\nsamples = 142\\nvalue = [47, 57, 38]'),\n",
              " Text(111.60000000000001, 163.07999999999998, 'gini = 0.0\\nsamples = 44\\nvalue = [0, 44, 0]'),\n",
              " Text(186.0, 163.07999999999998, 'X[2] <= 2.385\\ngini = 0.602\\nsamples = 98\\nvalue = [47, 13, 38]'),\n",
              " Text(111.60000000000001, 126.83999999999999, 'X[1] <= 1.05\\ngini = 0.136\\nsamples = 41\\nvalue = [0, 3, 38]'),\n",
              " Text(74.4, 90.6, 'X[1] <= 0.83\\ngini = 0.05\\nsamples = 39\\nvalue = [0, 1, 38]'),\n",
              " Text(37.2, 54.359999999999985, 'gini = 0.0\\nsamples = 33\\nvalue = [0, 0, 33]'),\n",
              " Text(111.60000000000001, 54.359999999999985, 'X[3] <= 517.5\\ngini = 0.278\\nsamples = 6\\nvalue = [0, 1, 5]'),\n",
              " Text(74.4, 18.119999999999976, 'gini = 0.0\\nsamples = 1\\nvalue = [0, 1, 0]'),\n",
              " Text(148.8, 18.119999999999976, 'gini = 0.0\\nsamples = 5\\nvalue = [0, 0, 5]'),\n",
              " Text(148.8, 90.6, 'gini = 0.0\\nsamples = 2\\nvalue = [0, 2, 0]'),\n",
              " Text(260.40000000000003, 126.83999999999999, 'X[3] <= 724.5\\ngini = 0.289\\nsamples = 57\\nvalue = [47, 10, 0]'),\n",
              " Text(223.20000000000002, 90.6, 'X[3] <= 670.0\\ngini = 0.165\\nsamples = 11\\nvalue = [1, 10, 0]'),\n",
              " Text(186.0, 54.359999999999985, 'gini = 0.0\\nsamples = 9\\nvalue = [0, 9, 0]'),\n",
              " Text(260.40000000000003, 54.359999999999985, 'X[0] <= 4.13\\ngini = 0.5\\nsamples = 2\\nvalue = [1, 1, 0]'),\n",
              " Text(223.20000000000002, 18.119999999999976, 'gini = 0.0\\nsamples = 1\\nvalue = [0, 1, 0]'),\n",
              " Text(297.6, 18.119999999999976, 'gini = 0.0\\nsamples = 1\\nvalue = [1, 0, 0]'),\n",
              " Text(297.6, 90.6, 'gini = 0.0\\nsamples = 46\\nvalue = [46, 0, 0]')]"
            ]
          },
          "metadata": {
            "tags": []
          },
          "execution_count": 66
        },
        {
          "output_type": "display_data",
          "data": {
            "image/png": "[encoded data removed]",
            "text/plain": [
              "<Figure size 432x288 with 1 Axes>"
            ]
          },
          "metadata": {
            "tags": [],
            "needs_background": "light"
          }
        }
      ]
    }
  ]
}